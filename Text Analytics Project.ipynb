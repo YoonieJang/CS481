{
  "nbformat": 4,
  "nbformat_minor": 0,
  "metadata": {
    "colab": {
      "name": "Project.ipynb",
      "provenance": [],
      "collapsed_sections": [],
      "authorship_tag": "ABX9TyMdNMZQPgHpjUseUqTdDzmg",
      "include_colab_link": true
    },
    "kernelspec": {
      "display_name": "Python 3",
      "name": "python3"
    },
    "language_info": {
      "name": "python"
    }
  },
  "cells": [
    {
      "cell_type": "markdown",
      "metadata": {
        "id": "view-in-github",
        "colab_type": "text"
      },
      "source": [
        "<a href=\"https://colab.research.google.com/github/YoonieJang/CS481/blob/main/Text%20Analytics%20Project.ipynb\" target=\"_parent\"><img src=\"https://colab.research.google.com/assets/colab-badge.svg\" alt=\"Open In Colab\"/></a>"
      ]
    },
    {
      "cell_type": "markdown",
      "metadata": {
        "id": "CrYJAcPMbJz1"
      },
      "source": [
        "# Data Information"
      ]
    },
    {
      "cell_type": "markdown",
      "metadata": {
        "id": "Y5JhLpuYbTpD"
      },
      "source": [
        "*  Context\n",
        "\n",
        "Collection of documents and its emotions\n",
        "\n",
        "*  Example\n",
        "\n",
        "i feel sick;sadness\n",
        "\n",
        "*  Goal\n",
        "\n",
        "When do people use positive emojis when they are texting?"
      ]
    },
    {
      "cell_type": "markdown",
      "metadata": {
        "id": "PWX04IJjC2nN"
      },
      "source": [
        "# Import Libraries"
      ]
    },
    {
      "cell_type": "code",
      "metadata": {
        "colab": {
          "base_uri": "https://localhost:8080/"
        },
        "id": "EX0HlSbyclR6",
        "outputId": "3393139a-18f2-4539-e39e-2d3f22415aa5"
      },
      "source": [
        "!pip install autocorrect"
      ],
      "execution_count": null,
      "outputs": [
        {
          "output_type": "stream",
          "text": [
            "Collecting autocorrect\n",
            "\u001b[?25l  Downloading https://files.pythonhosted.org/packages/35/31/aa5d4b54baafed2d0eef47e30d527ea60eb7357f11c3b5adc58262a3c693/autocorrect-2.5.0.tar.gz (622kB)\n",
            "\r\u001b[K     |▌                               | 10kB 14.4MB/s eta 0:00:01\r\u001b[K     |█                               | 20kB 19.0MB/s eta 0:00:01\r\u001b[K     |█▋                              | 30kB 15.1MB/s eta 0:00:01\r\u001b[K     |██                              | 40kB 15.6MB/s eta 0:00:01\r\u001b[K     |██▋                             | 51kB 17.7MB/s eta 0:00:01\r\u001b[K     |███▏                            | 61kB 15.6MB/s eta 0:00:01\r\u001b[K     |███▊                            | 71kB 12.4MB/s eta 0:00:01\r\u001b[K     |████▏                           | 81kB 13.5MB/s eta 0:00:01\r\u001b[K     |████▊                           | 92kB 12.0MB/s eta 0:00:01\r\u001b[K     |█████▎                          | 102kB 11.5MB/s eta 0:00:01\r\u001b[K     |█████▉                          | 112kB 11.5MB/s eta 0:00:01\r\u001b[K     |██████▎                         | 122kB 11.5MB/s eta 0:00:01\r\u001b[K     |██████▉                         | 133kB 11.5MB/s eta 0:00:01\r\u001b[K     |███████▍                        | 143kB 11.5MB/s eta 0:00:01\r\u001b[K     |████████                        | 153kB 11.5MB/s eta 0:00:01\r\u001b[K     |████████▍                       | 163kB 11.5MB/s eta 0:00:01\r\u001b[K     |█████████                       | 174kB 11.5MB/s eta 0:00:01\r\u001b[K     |█████████▌                      | 184kB 11.5MB/s eta 0:00:01\r\u001b[K     |██████████                      | 194kB 11.5MB/s eta 0:00:01\r\u001b[K     |██████████▌                     | 204kB 11.5MB/s eta 0:00:01\r\u001b[K     |███████████                     | 215kB 11.5MB/s eta 0:00:01\r\u001b[K     |███████████▋                    | 225kB 11.5MB/s eta 0:00:01\r\u001b[K     |████████████▏                   | 235kB 11.5MB/s eta 0:00:01\r\u001b[K     |████████████▋                   | 245kB 11.5MB/s eta 0:00:01\r\u001b[K     |█████████████▏                  | 256kB 11.5MB/s eta 0:00:01\r\u001b[K     |█████████████▊                  | 266kB 11.5MB/s eta 0:00:01\r\u001b[K     |██████████████▏                 | 276kB 11.5MB/s eta 0:00:01\r\u001b[K     |██████████████▊                 | 286kB 11.5MB/s eta 0:00:01\r\u001b[K     |███████████████▎                | 296kB 11.5MB/s eta 0:00:01\r\u001b[K     |███████████████▉                | 307kB 11.5MB/s eta 0:00:01\r\u001b[K     |████████████████▎               | 317kB 11.5MB/s eta 0:00:01\r\u001b[K     |████████████████▉               | 327kB 11.5MB/s eta 0:00:01\r\u001b[K     |█████████████████▍              | 337kB 11.5MB/s eta 0:00:01\r\u001b[K     |██████████████████              | 348kB 11.5MB/s eta 0:00:01\r\u001b[K     |██████████████████▍             | 358kB 11.5MB/s eta 0:00:01\r\u001b[K     |███████████████████             | 368kB 11.5MB/s eta 0:00:01\r\u001b[K     |███████████████████▌            | 378kB 11.5MB/s eta 0:00:01\r\u001b[K     |████████████████████            | 389kB 11.5MB/s eta 0:00:01\r\u001b[K     |████████████████████▌           | 399kB 11.5MB/s eta 0:00:01\r\u001b[K     |█████████████████████           | 409kB 11.5MB/s eta 0:00:01\r\u001b[K     |█████████████████████▋          | 419kB 11.5MB/s eta 0:00:01\r\u001b[K     |██████████████████████▏         | 430kB 11.5MB/s eta 0:00:01\r\u001b[K     |██████████████████████▋         | 440kB 11.5MB/s eta 0:00:01\r\u001b[K     |███████████████████████▏        | 450kB 11.5MB/s eta 0:00:01\r\u001b[K     |███████████████████████▊        | 460kB 11.5MB/s eta 0:00:01\r\u001b[K     |████████████████████████▎       | 471kB 11.5MB/s eta 0:00:01\r\u001b[K     |████████████████████████▊       | 481kB 11.5MB/s eta 0:00:01\r\u001b[K     |█████████████████████████▎      | 491kB 11.5MB/s eta 0:00:01\r\u001b[K     |█████████████████████████▉      | 501kB 11.5MB/s eta 0:00:01\r\u001b[K     |██████████████████████████▎     | 512kB 11.5MB/s eta 0:00:01\r\u001b[K     |██████████████████████████▉     | 522kB 11.5MB/s eta 0:00:01\r\u001b[K     |███████████████████████████▍    | 532kB 11.5MB/s eta 0:00:01\r\u001b[K     |████████████████████████████    | 542kB 11.5MB/s eta 0:00:01\r\u001b[K     |████████████████████████████▍   | 552kB 11.5MB/s eta 0:00:01\r\u001b[K     |█████████████████████████████   | 563kB 11.5MB/s eta 0:00:01\r\u001b[K     |█████████████████████████████▌  | 573kB 11.5MB/s eta 0:00:01\r\u001b[K     |██████████████████████████████  | 583kB 11.5MB/s eta 0:00:01\r\u001b[K     |██████████████████████████████▌ | 593kB 11.5MB/s eta 0:00:01\r\u001b[K     |███████████████████████████████ | 604kB 11.5MB/s eta 0:00:01\r\u001b[K     |███████████████████████████████▋| 614kB 11.5MB/s eta 0:00:01\r\u001b[K     |████████████████████████████████| 624kB 11.5MB/s \n",
            "\u001b[?25hBuilding wheels for collected packages: autocorrect\n",
            "  Building wheel for autocorrect (setup.py) ... \u001b[?25l\u001b[?25hdone\n",
            "  Created wheel for autocorrect: filename=autocorrect-2.5.0-cp37-none-any.whl size=621854 sha256=2976143e15c91131404cc9fcc8cd03ee17b11b5dcad2849762f3854193871973\n",
            "  Stored in directory: /root/.cache/pip/wheels/1f/71/da/4a15028d25fbd5fb97fb76c5f76f0ad86f0caa69394dd7cfa7\n",
            "Successfully built autocorrect\n",
            "Installing collected packages: autocorrect\n",
            "Successfully installed autocorrect-2.5.0\n"
          ],
          "name": "stdout"
        }
      ]
    },
    {
      "cell_type": "code",
      "metadata": {
        "colab": {
          "base_uri": "https://localhost:8080/"
        },
        "id": "mkne7WsYCe8P",
        "outputId": "88d89027-3289-4f7e-e84f-fe294077e0b8"
      },
      "source": [
        "from google.colab import files\n",
        "import io\n",
        "import pandas as pd\n",
        "import numpy as np\n",
        "import matplotlib.pyplot as plt\n",
        "import math\n",
        "import mlxtend\n",
        "import sklearn.cluster as cluster\n",
        "import sklearn.neighbors\n",
        "import sklearn.metrics as metrics\n",
        "import re\n",
        "from nltk.corpus import stopwords\n",
        "from sklearn.feature_extraction.text import CountVectorizer\n",
        "from sklearn.metrics.pairwise import cosine_similarity\n",
        "import string\n",
        "from sklearn.linear_model import LogisticRegression\n",
        "from sklearn.model_selection import train_test_split\n",
        "from sklearn.model_selection import cross_val_score\n",
        "from sklearn.feature_extraction.text import TfidfTransformer\n",
        "from sklearn.naive_bayes import MultinomialNB\n",
        "from sklearn.metrics import classification_report,confusion_matrix, roc_curve, auc, precision_score, recall_score, f1_score, precision_recall_curve\n",
        "from autocorrect import Speller\n",
        "import nltk\n",
        "nltk.download('wordnet')\n",
        "nltk.download('stopwords')\n",
        "from nltk.tokenize import word_tokenize \n",
        "from nltk.tokenize import RegexpTokenizer\n",
        "\n",
        "import warnings\n",
        "warnings.filterwarnings('ignore')\n"
      ],
      "execution_count": null,
      "outputs": [
        {
          "output_type": "stream",
          "text": [
            "[nltk_data] Downloading package wordnet to /root/nltk_data...\n",
            "[nltk_data]   Unzipping corpora/wordnet.zip.\n",
            "[nltk_data] Downloading package stopwords to /root/nltk_data...\n",
            "[nltk_data]   Unzipping corpora/stopwords.zip.\n"
          ],
          "name": "stdout"
        }
      ]
    },
    {
      "cell_type": "markdown",
      "metadata": {
        "id": "AYsKygirDHXw"
      },
      "source": [
        "# Load and explore the data\n",
        "#### The data is available at this source, and you can learn more about how and why this dataset is created from this paper.\n",
        "Data source: https://www.kaggle.com/praveengovi/emotions-dataset-for-nlp "
      ]
    },
    {
      "cell_type": "code",
      "metadata": {
        "colab": {
          "resources": {
            "http://localhost:8080/nbextensions/google.colab/files.js": {
              "data": "Ly8gQ29weXJpZ2h0IDIwMTcgR29vZ2xlIExMQwovLwovLyBMaWNlbnNlZCB1bmRlciB0aGUgQXBhY2hlIExpY2Vuc2UsIFZlcnNpb24gMi4wICh0aGUgIkxpY2Vuc2UiKTsKLy8geW91IG1heSBub3QgdXNlIHRoaXMgZmlsZSBleGNlcHQgaW4gY29tcGxpYW5jZSB3aXRoIHRoZSBMaWNlbnNlLgovLyBZb3UgbWF5IG9idGFpbiBhIGNvcHkgb2YgdGhlIExpY2Vuc2UgYXQKLy8KLy8gICAgICBodHRwOi8vd3d3LmFwYWNoZS5vcmcvbGljZW5zZXMvTElDRU5TRS0yLjAKLy8KLy8gVW5sZXNzIHJlcXVpcmVkIGJ5IGFwcGxpY2FibGUgbGF3IG9yIGFncmVlZCB0byBpbiB3cml0aW5nLCBzb2Z0d2FyZQovLyBkaXN0cmlidXRlZCB1bmRlciB0aGUgTGljZW5zZSBpcyBkaXN0cmlidXRlZCBvbiBhbiAiQVMgSVMiIEJBU0lTLAovLyBXSVRIT1VUIFdBUlJBTlRJRVMgT1IgQ09ORElUSU9OUyBPRiBBTlkgS0lORCwgZWl0aGVyIGV4cHJlc3Mgb3IgaW1wbGllZC4KLy8gU2VlIHRoZSBMaWNlbnNlIGZvciB0aGUgc3BlY2lmaWMgbGFuZ3VhZ2UgZ292ZXJuaW5nIHBlcm1pc3Npb25zIGFuZAovLyBsaW1pdGF0aW9ucyB1bmRlciB0aGUgTGljZW5zZS4KCi8qKgogKiBAZmlsZW92ZXJ2aWV3IEhlbHBlcnMgZm9yIGdvb2dsZS5jb2xhYiBQeXRob24gbW9kdWxlLgogKi8KKGZ1bmN0aW9uKHNjb3BlKSB7CmZ1bmN0aW9uIHNwYW4odGV4dCwgc3R5bGVBdHRyaWJ1dGVzID0ge30pIHsKICBjb25zdCBlbGVtZW50ID0gZG9jdW1lbnQuY3JlYXRlRWxlbWVudCgnc3BhbicpOwogIGVsZW1lbnQudGV4dENvbnRlbnQgPSB0ZXh0OwogIGZvciAoY29uc3Qga2V5IG9mIE9iamVjdC5rZXlzKHN0eWxlQXR0cmlidXRlcykpIHsKICAgIGVsZW1lbnQuc3R5bGVba2V5XSA9IHN0eWxlQXR0cmlidXRlc1trZXldOwogIH0KICByZXR1cm4gZWxlbWVudDsKfQoKLy8gTWF4IG51bWJlciBvZiBieXRlcyB3aGljaCB3aWxsIGJlIHVwbG9hZGVkIGF0IGEgdGltZS4KY29uc3QgTUFYX1BBWUxPQURfU0laRSA9IDEwMCAqIDEwMjQ7CgpmdW5jdGlvbiBfdXBsb2FkRmlsZXMoaW5wdXRJZCwgb3V0cHV0SWQpIHsKICBjb25zdCBzdGVwcyA9IHVwbG9hZEZpbGVzU3RlcChpbnB1dElkLCBvdXRwdXRJZCk7CiAgY29uc3Qgb3V0cHV0RWxlbWVudCA9IGRvY3VtZW50LmdldEVsZW1lbnRCeUlkKG91dHB1dElkKTsKICAvLyBDYWNoZSBzdGVwcyBvbiB0aGUgb3V0cHV0RWxlbWVudCB0byBtYWtlIGl0IGF2YWlsYWJsZSBmb3IgdGhlIG5leHQgY2FsbAogIC8vIHRvIHVwbG9hZEZpbGVzQ29udGludWUgZnJvbSBQeXRob24uCiAgb3V0cHV0RWxlbWVudC5zdGVwcyA9IHN0ZXBzOwoKICByZXR1cm4gX3VwbG9hZEZpbGVzQ29udGludWUob3V0cHV0SWQpOwp9CgovLyBUaGlzIGlzIHJvdWdobHkgYW4gYXN5bmMgZ2VuZXJhdG9yIChub3Qgc3VwcG9ydGVkIGluIHRoZSBicm93c2VyIHlldCksCi8vIHdoZXJlIHRoZXJlIGFyZSBtdWx0aXBsZSBhc3luY2hyb25vdXMgc3RlcHMgYW5kIHRoZSBQeXRob24gc2lkZSBpcyBnb2luZwovLyB0byBwb2xsIGZvciBjb21wbGV0aW9uIG9mIGVhY2ggc3RlcC4KLy8gVGhpcyB1c2VzIGEgUHJvbWlzZSB0byBibG9jayB0aGUgcHl0aG9uIHNpZGUgb24gY29tcGxldGlvbiBvZiBlYWNoIHN0ZXAsCi8vIHRoZW4gcGFzc2VzIHRoZSByZXN1bHQgb2YgdGhlIHByZXZpb3VzIHN0ZXAgYXMgdGhlIGlucHV0IHRvIHRoZSBuZXh0IHN0ZXAuCmZ1bmN0aW9uIF91cGxvYWRGaWxlc0NvbnRpbnVlKG91dHB1dElkKSB7CiAgY29uc3Qgb3V0cHV0RWxlbWVudCA9IGRvY3VtZW50LmdldEVsZW1lbnRCeUlkKG91dHB1dElkKTsKICBjb25zdCBzdGVwcyA9IG91dHB1dEVsZW1lbnQuc3RlcHM7CgogIGNvbnN0IG5leHQgPSBzdGVwcy5uZXh0KG91dHB1dEVsZW1lbnQubGFzdFByb21pc2VWYWx1ZSk7CiAgcmV0dXJuIFByb21pc2UucmVzb2x2ZShuZXh0LnZhbHVlLnByb21pc2UpLnRoZW4oKHZhbHVlKSA9PiB7CiAgICAvLyBDYWNoZSB0aGUgbGFzdCBwcm9taXNlIHZhbHVlIHRvIG1ha2UgaXQgYXZhaWxhYmxlIHRvIHRoZSBuZXh0CiAgICAvLyBzdGVwIG9mIHRoZSBnZW5lcmF0b3IuCiAgICBvdXRwdXRFbGVtZW50Lmxhc3RQcm9taXNlVmFsdWUgPSB2YWx1ZTsKICAgIHJldHVybiBuZXh0LnZhbHVlLnJlc3BvbnNlOwogIH0pOwp9CgovKioKICogR2VuZXJhdG9yIGZ1bmN0aW9uIHdoaWNoIGlzIGNhbGxlZCBiZXR3ZWVuIGVhY2ggYXN5bmMgc3RlcCBvZiB0aGUgdXBsb2FkCiAqIHByb2Nlc3MuCiAqIEBwYXJhbSB7c3RyaW5nfSBpbnB1dElkIEVsZW1lbnQgSUQgb2YgdGhlIGlucHV0IGZpbGUgcGlja2VyIGVsZW1lbnQuCiAqIEBwYXJhbSB7c3RyaW5nfSBvdXRwdXRJZCBFbGVtZW50IElEIG9mIHRoZSBvdXRwdXQgZGlzcGxheS4KICogQHJldHVybiB7IUl0ZXJhYmxlPCFPYmplY3Q+fSBJdGVyYWJsZSBvZiBuZXh0IHN0ZXBzLgogKi8KZnVuY3Rpb24qIHVwbG9hZEZpbGVzU3RlcChpbnB1dElkLCBvdXRwdXRJZCkgewogIGNvbnN0IGlucHV0RWxlbWVudCA9IGRvY3VtZW50LmdldEVsZW1lbnRCeUlkKGlucHV0SWQpOwogIGlucHV0RWxlbWVudC5kaXNhYmxlZCA9IGZhbHNlOwoKICBjb25zdCBvdXRwdXRFbGVtZW50ID0gZG9jdW1lbnQuZ2V0RWxlbWVudEJ5SWQob3V0cHV0SWQpOwogIG91dHB1dEVsZW1lbnQuaW5uZXJIVE1MID0gJyc7CgogIGNvbnN0IHBpY2tlZFByb21pc2UgPSBuZXcgUHJvbWlzZSgocmVzb2x2ZSkgPT4gewogICAgaW5wdXRFbGVtZW50LmFkZEV2ZW50TGlzdGVuZXIoJ2NoYW5nZScsIChlKSA9PiB7CiAgICAgIHJlc29sdmUoZS50YXJnZXQuZmlsZXMpOwogICAgfSk7CiAgfSk7CgogIGNvbnN0IGNhbmNlbCA9IGRvY3VtZW50LmNyZWF0ZUVsZW1lbnQoJ2J1dHRvbicpOwogIGlucHV0RWxlbWVudC5wYXJlbnRFbGVtZW50LmFwcGVuZENoaWxkKGNhbmNlbCk7CiAgY2FuY2VsLnRleHRDb250ZW50ID0gJ0NhbmNlbCB1cGxvYWQnOwogIGNvbnN0IGNhbmNlbFByb21pc2UgPSBuZXcgUHJvbWlzZSgocmVzb2x2ZSkgPT4gewogICAgY2FuY2VsLm9uY2xpY2sgPSAoKSA9PiB7CiAgICAgIHJlc29sdmUobnVsbCk7CiAgICB9OwogIH0pOwoKICAvLyBXYWl0IGZvciB0aGUgdXNlciB0byBwaWNrIHRoZSBmaWxlcy4KICBjb25zdCBmaWxlcyA9IHlpZWxkIHsKICAgIHByb21pc2U6IFByb21pc2UucmFjZShbcGlja2VkUHJvbWlzZSwgY2FuY2VsUHJvbWlzZV0pLAogICAgcmVzcG9uc2U6IHsKICAgICAgYWN0aW9uOiAnc3RhcnRpbmcnLAogICAgfQogIH07CgogIGNhbmNlbC5yZW1vdmUoKTsKCiAgLy8gRGlzYWJsZSB0aGUgaW5wdXQgZWxlbWVudCBzaW5jZSBmdXJ0aGVyIHBpY2tzIGFyZSBub3QgYWxsb3dlZC4KICBpbnB1dEVsZW1lbnQuZGlzYWJsZWQgPSB0cnVlOwoKICBpZiAoIWZpbGVzKSB7CiAgICByZXR1cm4gewogICAgICByZXNwb25zZTogewogICAgICAgIGFjdGlvbjogJ2NvbXBsZXRlJywKICAgICAgfQogICAgfTsKICB9CgogIGZvciAoY29uc3QgZmlsZSBvZiBmaWxlcykgewogICAgY29uc3QgbGkgPSBkb2N1bWVudC5jcmVhdGVFbGVtZW50KCdsaScpOwogICAgbGkuYXBwZW5kKHNwYW4oZmlsZS5uYW1lLCB7Zm9udFdlaWdodDogJ2JvbGQnfSkpOwogICAgbGkuYXBwZW5kKHNwYW4oCiAgICAgICAgYCgke2ZpbGUudHlwZSB8fCAnbi9hJ30pIC0gJHtmaWxlLnNpemV9IGJ5dGVzLCBgICsKICAgICAgICBgbGFzdCBtb2RpZmllZDogJHsKICAgICAgICAgICAgZmlsZS5sYXN0TW9kaWZpZWREYXRlID8gZmlsZS5sYXN0TW9kaWZpZWREYXRlLnRvTG9jYWxlRGF0ZVN0cmluZygpIDoKICAgICAgICAgICAgICAgICAgICAgICAgICAgICAgICAgICAgJ24vYSd9IC0gYCkpOwogICAgY29uc3QgcGVyY2VudCA9IHNwYW4oJzAlIGRvbmUnKTsKICAgIGxpLmFwcGVuZENoaWxkKHBlcmNlbnQpOwoKICAgIG91dHB1dEVsZW1lbnQuYXBwZW5kQ2hpbGQobGkpOwoKICAgIGNvbnN0IGZpbGVEYXRhUHJvbWlzZSA9IG5ldyBQcm9taXNlKChyZXNvbHZlKSA9PiB7CiAgICAgIGNvbnN0IHJlYWRlciA9IG5ldyBGaWxlUmVhZGVyKCk7CiAgICAgIHJlYWRlci5vbmxvYWQgPSAoZSkgPT4gewogICAgICAgIHJlc29sdmUoZS50YXJnZXQucmVzdWx0KTsKICAgICAgfTsKICAgICAgcmVhZGVyLnJlYWRBc0FycmF5QnVmZmVyKGZpbGUpOwogICAgfSk7CiAgICAvLyBXYWl0IGZvciB0aGUgZGF0YSB0byBiZSByZWFkeS4KICAgIGxldCBmaWxlRGF0YSA9IHlpZWxkIHsKICAgICAgcHJvbWlzZTogZmlsZURhdGFQcm9taXNlLAogICAgICByZXNwb25zZTogewogICAgICAgIGFjdGlvbjogJ2NvbnRpbnVlJywKICAgICAgfQogICAgfTsKCiAgICAvLyBVc2UgYSBjaHVua2VkIHNlbmRpbmcgdG8gYXZvaWQgbWVzc2FnZSBzaXplIGxpbWl0cy4gU2VlIGIvNjIxMTU2NjAuCiAgICBsZXQgcG9zaXRpb24gPSAwOwogICAgd2hpbGUgKHBvc2l0aW9uIDwgZmlsZURhdGEuYnl0ZUxlbmd0aCkgewogICAgICBjb25zdCBsZW5ndGggPSBNYXRoLm1pbihmaWxlRGF0YS5ieXRlTGVuZ3RoIC0gcG9zaXRpb24sIE1BWF9QQVlMT0FEX1NJWkUpOwogICAgICBjb25zdCBjaHVuayA9IG5ldyBVaW50OEFycmF5KGZpbGVEYXRhLCBwb3NpdGlvbiwgbGVuZ3RoKTsKICAgICAgcG9zaXRpb24gKz0gbGVuZ3RoOwoKICAgICAgY29uc3QgYmFzZTY0ID0gYnRvYShTdHJpbmcuZnJvbUNoYXJDb2RlLmFwcGx5KG51bGwsIGNodW5rKSk7CiAgICAgIHlpZWxkIHsKICAgICAgICByZXNwb25zZTogewogICAgICAgICAgYWN0aW9uOiAnYXBwZW5kJywKICAgICAgICAgIGZpbGU6IGZpbGUubmFtZSwKICAgICAgICAgIGRhdGE6IGJhc2U2NCwKICAgICAgICB9LAogICAgICB9OwogICAgICBwZXJjZW50LnRleHRDb250ZW50ID0KICAgICAgICAgIGAke01hdGgucm91bmQoKHBvc2l0aW9uIC8gZmlsZURhdGEuYnl0ZUxlbmd0aCkgKiAxMDApfSUgZG9uZWA7CiAgICB9CiAgfQoKICAvLyBBbGwgZG9uZS4KICB5aWVsZCB7CiAgICByZXNwb25zZTogewogICAgICBhY3Rpb246ICdjb21wbGV0ZScsCiAgICB9CiAgfTsKfQoKc2NvcGUuZ29vZ2xlID0gc2NvcGUuZ29vZ2xlIHx8IHt9OwpzY29wZS5nb29nbGUuY29sYWIgPSBzY29wZS5nb29nbGUuY29sYWIgfHwge307CnNjb3BlLmdvb2dsZS5jb2xhYi5fZmlsZXMgPSB7CiAgX3VwbG9hZEZpbGVzLAogIF91cGxvYWRGaWxlc0NvbnRpbnVlLAp9Owp9KShzZWxmKTsK",
              "ok": true,
              "headers": [
                [
                  "content-type",
                  "application/javascript"
                ]
              ],
              "status": 200,
              "status_text": ""
            }
          },
          "base_uri": "https://localhost:8080/",
          "height": 72
        },
        "id": "SBZDHBxZDYyb",
        "outputId": "b18f3829-5da2-4e6a-9298-a09ce9e5289b"
      },
      "source": [
        "uploaded = files.upload()\n",
        "\n",
        "df = pd.read_csv(io.StringIO(uploaded['emotions.txt'].decode(\"utf-8\")), sep=';')\n",
        "# the sentiments exist, so that it needs to be separate what emojis are used in each sentence"
      ],
      "execution_count": null,
      "outputs": [
        {
          "output_type": "display_data",
          "data": {
            "text/html": [
              "\n",
              "     <input type=\"file\" id=\"files-3d33360e-76dd-459d-8b86-831be83e9404\" name=\"files[]\" multiple disabled\n",
              "        style=\"border:none\" />\n",
              "     <output id=\"result-3d33360e-76dd-459d-8b86-831be83e9404\">\n",
              "      Upload widget is only available when the cell has been executed in the\n",
              "      current browser session. Please rerun this cell to enable.\n",
              "      </output>\n",
              "      <script src=\"/nbextensions/google.colab/files.js\"></script> "
            ],
            "text/plain": [
              "<IPython.core.display.HTML object>"
            ]
          },
          "metadata": {
            "tags": []
          }
        },
        {
          "output_type": "stream",
          "text": [
            "Saving emotions.txt to emotions.txt\n"
          ],
          "name": "stdout"
        }
      ]
    },
    {
      "cell_type": "code",
      "metadata": {
        "colab": {
          "base_uri": "https://localhost:8080/",
          "height": 220
        },
        "id": "z4mo_G_lGpa8",
        "outputId": "10bc43a7-68e8-4ad1-d934-4e035972e04a"
      },
      "source": [
        "df.columns=['sentence','emotion']\n",
        "df.shape, display(df.head())\n",
        "# we have 17999 sentences for the data and 2 columns for sentence and emotion"
      ],
      "execution_count": null,
      "outputs": [
        {
          "output_type": "display_data",
          "data": {
            "text/html": [
              "<div>\n",
              "<style scoped>\n",
              "    .dataframe tbody tr th:only-of-type {\n",
              "        vertical-align: middle;\n",
              "    }\n",
              "\n",
              "    .dataframe tbody tr th {\n",
              "        vertical-align: top;\n",
              "    }\n",
              "\n",
              "    .dataframe thead th {\n",
              "        text-align: right;\n",
              "    }\n",
              "</style>\n",
              "<table border=\"1\" class=\"dataframe\">\n",
              "  <thead>\n",
              "    <tr style=\"text-align: right;\">\n",
              "      <th></th>\n",
              "      <th>sentence</th>\n",
              "      <th>emotion</th>\n",
              "    </tr>\n",
              "  </thead>\n",
              "  <tbody>\n",
              "    <tr>\n",
              "      <th>0</th>\n",
              "      <td>i can go from feeling so hopeless to so damned...</td>\n",
              "      <td>sadness</td>\n",
              "    </tr>\n",
              "    <tr>\n",
              "      <th>1</th>\n",
              "      <td>im grabbing a minute to post i feel greedy wrong</td>\n",
              "      <td>anger</td>\n",
              "    </tr>\n",
              "    <tr>\n",
              "      <th>2</th>\n",
              "      <td>i am ever feeling nostalgic about the fireplac...</td>\n",
              "      <td>love</td>\n",
              "    </tr>\n",
              "    <tr>\n",
              "      <th>3</th>\n",
              "      <td>i am feeling grouchy</td>\n",
              "      <td>anger</td>\n",
              "    </tr>\n",
              "    <tr>\n",
              "      <th>4</th>\n",
              "      <td>ive been feeling a little burdened lately wasn...</td>\n",
              "      <td>sadness</td>\n",
              "    </tr>\n",
              "  </tbody>\n",
              "</table>\n",
              "</div>"
            ],
            "text/plain": [
              "                                            sentence  emotion\n",
              "0  i can go from feeling so hopeless to so damned...  sadness\n",
              "1   im grabbing a minute to post i feel greedy wrong    anger\n",
              "2  i am ever feeling nostalgic about the fireplac...     love\n",
              "3                               i am feeling grouchy    anger\n",
              "4  ive been feeling a little burdened lately wasn...  sadness"
            ]
          },
          "metadata": {
            "tags": []
          }
        },
        {
          "output_type": "execute_result",
          "data": {
            "text/plain": [
              "((17999, 2), None)"
            ]
          },
          "metadata": {
            "tags": []
          },
          "execution_count": 4
        }
      ]
    },
    {
      "cell_type": "code",
      "metadata": {
        "colab": {
          "base_uri": "https://localhost:8080/"
        },
        "id": "K-Rc1a0xPAbz",
        "outputId": "8e42c51c-a1f9-4e46-9402-cee9fa2d447a"
      },
      "source": [
        "df.isnull().sum()"
      ],
      "execution_count": null,
      "outputs": [
        {
          "output_type": "execute_result",
          "data": {
            "text/plain": [
              "sentence    0\n",
              "emotion     0\n",
              "dtype: int64"
            ]
          },
          "metadata": {
            "tags": []
          },
          "execution_count": 5
        }
      ]
    },
    {
      "cell_type": "code",
      "metadata": {
        "colab": {
          "base_uri": "https://localhost:8080/"
        },
        "id": "geUnupErPFz2",
        "outputId": "dc7d4a9f-9787-4400-f850-f16d3ba9c4e4"
      },
      "source": [
        "df = df.drop_duplicates(keep=\"first\")\n",
        "df.shape\n",
        "# compare with the original data 17,998, we removed about 1 duplicate sample"
      ],
      "execution_count": null,
      "outputs": [
        {
          "output_type": "execute_result",
          "data": {
            "text/plain": [
              "(17998, 2)"
            ]
          },
          "metadata": {
            "tags": []
          },
          "execution_count": 6
        }
      ]
    },
    {
      "cell_type": "code",
      "metadata": {
        "colab": {
          "base_uri": "https://localhost:8080/",
          "height": 202
        },
        "id": "ohnm99HFoKxI",
        "outputId": "cd2edcc1-857d-483a-dea6-c29fc4ebaa2a"
      },
      "source": [
        "df.tail()"
      ],
      "execution_count": null,
      "outputs": [
        {
          "output_type": "execute_result",
          "data": {
            "text/html": [
              "<div>\n",
              "<style scoped>\n",
              "    .dataframe tbody tr th:only-of-type {\n",
              "        vertical-align: middle;\n",
              "    }\n",
              "\n",
              "    .dataframe tbody tr th {\n",
              "        vertical-align: top;\n",
              "    }\n",
              "\n",
              "    .dataframe thead th {\n",
              "        text-align: right;\n",
              "    }\n",
              "</style>\n",
              "<table border=\"1\" class=\"dataframe\">\n",
              "  <thead>\n",
              "    <tr style=\"text-align: right;\">\n",
              "      <th></th>\n",
              "      <th>sentence</th>\n",
              "      <th>emotion</th>\n",
              "    </tr>\n",
              "  </thead>\n",
              "  <tbody>\n",
              "    <tr>\n",
              "      <th>17994</th>\n",
              "      <td>i just keep feeling like someone is being unki...</td>\n",
              "      <td>anger</td>\n",
              "    </tr>\n",
              "    <tr>\n",
              "      <th>17995</th>\n",
              "      <td>im feeling a little cranky negative after this...</td>\n",
              "      <td>anger</td>\n",
              "    </tr>\n",
              "    <tr>\n",
              "      <th>17996</th>\n",
              "      <td>i feel that i am useful to my people and that ...</td>\n",
              "      <td>joy</td>\n",
              "    </tr>\n",
              "    <tr>\n",
              "      <th>17997</th>\n",
              "      <td>im feeling more comfortable with derby i feel ...</td>\n",
              "      <td>joy</td>\n",
              "    </tr>\n",
              "    <tr>\n",
              "      <th>17998</th>\n",
              "      <td>i feel all weird when i have to meet w people ...</td>\n",
              "      <td>fear</td>\n",
              "    </tr>\n",
              "  </tbody>\n",
              "</table>\n",
              "</div>"
            ],
            "text/plain": [
              "                                                sentence emotion\n",
              "17994  i just keep feeling like someone is being unki...   anger\n",
              "17995  im feeling a little cranky negative after this...   anger\n",
              "17996  i feel that i am useful to my people and that ...     joy\n",
              "17997  im feeling more comfortable with derby i feel ...     joy\n",
              "17998  i feel all weird when i have to meet w people ...    fear"
            ]
          },
          "metadata": {
            "tags": []
          },
          "execution_count": 7
        }
      ]
    },
    {
      "cell_type": "code",
      "metadata": {
        "colab": {
          "base_uri": "https://localhost:8080/",
          "height": 202
        },
        "id": "PNADjAgPnfX9",
        "outputId": "470393fb-5694-47f5-d63d-36e48484759f"
      },
      "source": [
        "# we remoced a sample from data so that do redix\n",
        "df_reidx = df.reset_index(drop=True)\n",
        "df_reidx.tail()"
      ],
      "execution_count": null,
      "outputs": [
        {
          "output_type": "execute_result",
          "data": {
            "text/html": [
              "<div>\n",
              "<style scoped>\n",
              "    .dataframe tbody tr th:only-of-type {\n",
              "        vertical-align: middle;\n",
              "    }\n",
              "\n",
              "    .dataframe tbody tr th {\n",
              "        vertical-align: top;\n",
              "    }\n",
              "\n",
              "    .dataframe thead th {\n",
              "        text-align: right;\n",
              "    }\n",
              "</style>\n",
              "<table border=\"1\" class=\"dataframe\">\n",
              "  <thead>\n",
              "    <tr style=\"text-align: right;\">\n",
              "      <th></th>\n",
              "      <th>sentence</th>\n",
              "      <th>emotion</th>\n",
              "    </tr>\n",
              "  </thead>\n",
              "  <tbody>\n",
              "    <tr>\n",
              "      <th>17993</th>\n",
              "      <td>i just keep feeling like someone is being unki...</td>\n",
              "      <td>anger</td>\n",
              "    </tr>\n",
              "    <tr>\n",
              "      <th>17994</th>\n",
              "      <td>im feeling a little cranky negative after this...</td>\n",
              "      <td>anger</td>\n",
              "    </tr>\n",
              "    <tr>\n",
              "      <th>17995</th>\n",
              "      <td>i feel that i am useful to my people and that ...</td>\n",
              "      <td>joy</td>\n",
              "    </tr>\n",
              "    <tr>\n",
              "      <th>17996</th>\n",
              "      <td>im feeling more comfortable with derby i feel ...</td>\n",
              "      <td>joy</td>\n",
              "    </tr>\n",
              "    <tr>\n",
              "      <th>17997</th>\n",
              "      <td>i feel all weird when i have to meet w people ...</td>\n",
              "      <td>fear</td>\n",
              "    </tr>\n",
              "  </tbody>\n",
              "</table>\n",
              "</div>"
            ],
            "text/plain": [
              "                                                sentence emotion\n",
              "17993  i just keep feeling like someone is being unki...   anger\n",
              "17994  im feeling a little cranky negative after this...   anger\n",
              "17995  i feel that i am useful to my people and that ...     joy\n",
              "17996  im feeling more comfortable with derby i feel ...     joy\n",
              "17997  i feel all weird when i have to meet w people ...    fear"
            ]
          },
          "metadata": {
            "tags": []
          },
          "execution_count": 8
        }
      ]
    },
    {
      "cell_type": "code",
      "metadata": {
        "id": "K_Z9aL_vm5f9"
      },
      "source": [
        "# convert the emotions to binary labels. love and joy emotions are 1, and sadness, anger, fear, and surprise are 0.\n",
        "df_reidx['label']=df_reidx['emotion'].replace({'joy':1, 'love': 1, \n",
        "                                   'sadness':0, 'anger':0, 'fear':0,'surprise':0})"
      ],
      "execution_count": null,
      "outputs": []
    },
    {
      "cell_type": "code",
      "metadata": {
        "colab": {
          "base_uri": "https://localhost:8080/"
        },
        "id": "jqlwmw4XbpjL",
        "outputId": "19b3706c-25ff-4552-ca0f-5e6b7a74e86d"
      },
      "source": [
        "# check if pos and neg sentiments\n",
        "df_reidx.label.value_counts()"
      ],
      "execution_count": null,
      "outputs": [
        {
          "output_type": "execute_result",
          "data": {
            "text/plain": [
              "0    10479\n",
              "1     7519\n",
              "Name: label, dtype: int64"
            ]
          },
          "metadata": {
            "tags": []
          },
          "execution_count": 10
        }
      ]
    },
    {
      "cell_type": "code",
      "metadata": {
        "colab": {
          "base_uri": "https://localhost:8080/"
        },
        "id": "YjHjxw4LdIsg",
        "outputId": "ed749b95-82d3-47ab-f473-91b257eb0322"
      },
      "source": [
        "df_reidx['length'] = df_reidx['sentence'].apply(len) # number of characters\n",
        "df_reidx['length'].describe() # info()"
      ],
      "execution_count": null,
      "outputs": [
        {
          "output_type": "execute_result",
          "data": {
            "text/plain": [
              "count    17998.000000\n",
              "mean        96.823036\n",
              "std         55.882297\n",
              "min          7.000000\n",
              "25%         53.000000\n",
              "50%         86.000000\n",
              "75%        129.000000\n",
              "max        300.000000\n",
              "Name: length, dtype: float64"
            ]
          },
          "metadata": {
            "tags": []
          },
          "execution_count": 11
        }
      ]
    },
    {
      "cell_type": "code",
      "metadata": {
        "colab": {
          "base_uri": "https://localhost:8080/",
          "height": 289
        },
        "id": "PzhNfADUdWEI",
        "outputId": "d02d6ead-acfc-472b-fb5c-54b65dc29572"
      },
      "source": [
        "# plot the distribution of the length of positive and negative emotions\n",
        "# x: length of reviews; y: number of reviews fall into each interval\n",
        "df_reidx.hist(column='length', by='label',bins=30, figsize=(12,4),rwidth=0.9)\n",
        "plt.show()"
      ],
      "execution_count": null,
      "outputs": [
        {
          "output_type": "display_data",
          "data": {
            "image/png": "[encoded data removed]",
            "text/plain": [
              "<Figure size 864x288 with 2 Axes>"
            ]
          },
          "metadata": {
            "tags": [],
            "needs_background": "light"
          }
        }
      ]
    },
    {
      "cell_type": "markdown",
      "metadata": {
        "id": "XfIGqSLEddb-"
      },
      "source": [
        "#### In the plot, there is no significant difference between positive and negative sentences based on the length of the sencetence"
      ]
    },
    {
      "cell_type": "code",
      "metadata": {
        "colab": {
          "base_uri": "https://localhost:8080/",
          "height": 416
        },
        "id": "VQ6mpBprgj9h",
        "outputId": "b2157946-ce65-4d39-e8fb-df0263667d28"
      },
      "source": [
        "df_reidx"
      ],
      "execution_count": null,
      "outputs": [
        {
          "output_type": "execute_result",
          "data": {
            "text/html": [
              "<div>\n",
              "<style scoped>\n",
              "    .dataframe tbody tr th:only-of-type {\n",
              "        vertical-align: middle;\n",
              "    }\n",
              "\n",
              "    .dataframe tbody tr th {\n",
              "        vertical-align: top;\n",
              "    }\n",
              "\n",
              "    .dataframe thead th {\n",
              "        text-align: right;\n",
              "    }\n",
              "</style>\n",
              "<table border=\"1\" class=\"dataframe\">\n",
              "  <thead>\n",
              "    <tr style=\"text-align: right;\">\n",
              "      <th></th>\n",
              "      <th>sentence</th>\n",
              "      <th>emotion</th>\n",
              "      <th>label</th>\n",
              "      <th>length</th>\n",
              "    </tr>\n",
              "  </thead>\n",
              "  <tbody>\n",
              "    <tr>\n",
              "      <th>0</th>\n",
              "      <td>i can go from feeling so hopeless to so damned...</td>\n",
              "      <td>sadness</td>\n",
              "      <td>0</td>\n",
              "      <td>108</td>\n",
              "    </tr>\n",
              "    <tr>\n",
              "      <th>1</th>\n",
              "      <td>im grabbing a minute to post i feel greedy wrong</td>\n",
              "      <td>anger</td>\n",
              "      <td>0</td>\n",
              "      <td>48</td>\n",
              "    </tr>\n",
              "    <tr>\n",
              "      <th>2</th>\n",
              "      <td>i am ever feeling nostalgic about the fireplac...</td>\n",
              "      <td>love</td>\n",
              "      <td>1</td>\n",
              "      <td>92</td>\n",
              "    </tr>\n",
              "    <tr>\n",
              "      <th>3</th>\n",
              "      <td>i am feeling grouchy</td>\n",
              "      <td>anger</td>\n",
              "      <td>0</td>\n",
              "      <td>20</td>\n",
              "    </tr>\n",
              "    <tr>\n",
              "      <th>4</th>\n",
              "      <td>ive been feeling a little burdened lately wasn...</td>\n",
              "      <td>sadness</td>\n",
              "      <td>0</td>\n",
              "      <td>65</td>\n",
              "    </tr>\n",
              "    <tr>\n",
              "      <th>...</th>\n",
              "      <td>...</td>\n",
              "      <td>...</td>\n",
              "      <td>...</td>\n",
              "      <td>...</td>\n",
              "    </tr>\n",
              "    <tr>\n",
              "      <th>17993</th>\n",
              "      <td>i just keep feeling like someone is being unki...</td>\n",
              "      <td>anger</td>\n",
              "      <td>0</td>\n",
              "      <td>163</td>\n",
              "    </tr>\n",
              "    <tr>\n",
              "      <th>17994</th>\n",
              "      <td>im feeling a little cranky negative after this...</td>\n",
              "      <td>anger</td>\n",
              "      <td>0</td>\n",
              "      <td>66</td>\n",
              "    </tr>\n",
              "    <tr>\n",
              "      <th>17995</th>\n",
              "      <td>i feel that i am useful to my people and that ...</td>\n",
              "      <td>joy</td>\n",
              "      <td>1</td>\n",
              "      <td>85</td>\n",
              "    </tr>\n",
              "    <tr>\n",
              "      <th>17996</th>\n",
              "      <td>im feeling more comfortable with derby i feel ...</td>\n",
              "      <td>joy</td>\n",
              "      <td>1</td>\n",
              "      <td>88</td>\n",
              "    </tr>\n",
              "    <tr>\n",
              "      <th>17997</th>\n",
              "      <td>i feel all weird when i have to meet w people ...</td>\n",
              "      <td>fear</td>\n",
              "      <td>0</td>\n",
              "      <td>86</td>\n",
              "    </tr>\n",
              "  </tbody>\n",
              "</table>\n",
              "<p>17998 rows × 4 columns</p>\n",
              "</div>"
            ],
            "text/plain": [
              "                                                sentence  ... length\n",
              "0      i can go from feeling so hopeless to so damned...  ...    108\n",
              "1       im grabbing a minute to post i feel greedy wrong  ...     48\n",
              "2      i am ever feeling nostalgic about the fireplac...  ...     92\n",
              "3                                   i am feeling grouchy  ...     20\n",
              "4      ive been feeling a little burdened lately wasn...  ...     65\n",
              "...                                                  ...  ...    ...\n",
              "17993  i just keep feeling like someone is being unki...  ...    163\n",
              "17994  im feeling a little cranky negative after this...  ...     66\n",
              "17995  i feel that i am useful to my people and that ...  ...     85\n",
              "17996  im feeling more comfortable with derby i feel ...  ...     88\n",
              "17997  i feel all weird when i have to meet w people ...  ...     86\n",
              "\n",
              "[17998 rows x 4 columns]"
            ]
          },
          "metadata": {
            "tags": []
          },
          "execution_count": 13
        }
      ]
    },
    {
      "cell_type": "markdown",
      "metadata": {
        "id": "KptVLKp2dtfr"
      },
      "source": [
        "# Text Preprocessing\n",
        "#### To clean the sentences,we do text preprocessing."
      ]
    },
    {
      "cell_type": "markdown",
      "metadata": {
        "id": "UX36yQrhd35L"
      },
      "source": [
        "*   Decontracted\n",
        "*   Data cleaning\n",
        "Additionally,\n",
        "*   Spell check\n",
        "*   Lemmatization\n",
        "*   Nomalization\n",
        "\n",
        "\n",
        "\n"
      ]
    },
    {
      "cell_type": "code",
      "metadata": {
        "colab": {
          "base_uri": "https://localhost:8080/",
          "height": 220
        },
        "id": "RTfGwvFpes_X",
        "outputId": "dd06810a-eefc-4333-99b5-7b8f29afcca3"
      },
      "source": [
        "from tqdm import tqdm\n",
        "import re\n",
        "from bs4 import BeautifulSoup\n",
        "from nltk.stem import PorterStemmer\n",
        "from nltk.stem import WordNetLemmatizer\n",
        "\n",
        "def decontracted(phrase):\n",
        "    \"\"\"\n",
        "    We first define a function to expand the contracted phrase into normal words\n",
        "    \"\"\"\n",
        "    # specific\n",
        "    phrase = re.sub(r\"wont\", \"will not\", phrase)\n",
        "    phrase = re.sub(r\"wouldnt\", \"would not\", phrase)\n",
        "    phrase = re.sub(r\"shouldnt\", \"should not\", phrase)\n",
        "    phrase = re.sub(r\"couldnt\", \"could not\", phrase)\n",
        "    phrase = re.sub(r\"cudnt\", \"could not\", phrase)\n",
        "    phrase = re.sub(r\"cant\", \"can not\", phrase)\n",
        "    phrase = re.sub(r\"dont\", \"do not\", phrase)\n",
        "    phrase = re.sub(r\"doesnt\", \"does not\", phrase)\n",
        "    phrase = re.sub(r\"didnt\", \"did not\", phrase)\n",
        "    phrase = re.sub(r\"wasnt\", \"was not\", phrase)\n",
        "    phrase = re.sub(r\"werent\", \"were not\", phrase)\n",
        "    phrase = re.sub(r\"havent\", \"have not\", phrase)\n",
        "    phrase = re.sub(r\"hadnt\", \"had not\", phrase)\n",
        "\n",
        "    # general\n",
        "    phrase = re.sub(r\"n\\ t\", \" not\", phrase)\n",
        "    #phrase = re.sub(r\"\\re\", \" are\", phrase)\n",
        "    phrase = re.sub(r\"\\ s \", \" is \", phrase) # prime \n",
        "    phrase = re.sub(r\"\\ d \", \" would \", phrase)\n",
        "    phrase = re.sub(r\"\\ ll \", \" will \", phrase)\n",
        "    phrase = re.sub(r\"\\dunno\", \"do not \", phrase)\n",
        "    phrase = re.sub(r\"ive \", \"i have \", phrase)\n",
        "    phrase = re.sub(r\"im \", \"i am \", phrase)\n",
        "    phrase = re.sub(r\"i m \", \"i am \", phrase)\n",
        "    phrase = re.sub(r\" w \", \" with \", phrase)\n",
        "    \n",
        "    return phrase\n",
        "\n",
        "    \n",
        "def clean_text(df):\n",
        "    \"\"\"\n",
        "    Clean the review texts\n",
        "    \"\"\"\n",
        "    cleaned_review = []\n",
        "\n",
        "    for review_text in tqdm(df['sentence']):\n",
        "        \n",
        "        # expand the contracted words\n",
        "        review_text = decontracted(review_text)\n",
        "        \n",
        "        #remove html tags\n",
        "        review_text = BeautifulSoup(review_text, 'lxml').get_text().strip() # re.sub(r'<.*?>', '', text)\n",
        "        \n",
        "        #remove non-alphabetic characters\n",
        "        review_text = re.sub(\"[^a-zA-Z]\",\" \", review_text)\n",
        "    \n",
        "        #remove url \n",
        "        review_text = re.sub(r'https?://\\S+|www\\.\\S+', '', review_text)\n",
        "        \n",
        "        #Removing punctutation, string.punctuation in python consists of !\"#$%&\\'()*+,-./:;<=>?@[\\\\]^_{|}~`\n",
        "        review_text = review_text.translate(str.maketrans('', '', string.punctuation))\n",
        "        # ''.join([char for char in movie_text_data if char not in string.punctuation])\n",
        "        \n",
        "        # remove emails\n",
        "        review_text = re.sub(r\"(^[a-zA-Z0-9_.+-]+@[a-zA-Z0-9-]+\\.[a-zA-Z0-9-.]+$)\", '', review_text)\n",
        "    \n",
        "        cleaned_review.append(review_text)\n",
        "\n",
        "    return cleaned_review  \n",
        "\n",
        "def spellcheck(df_reidx):\n",
        "  spell = Speller(lang='en')\n",
        "  spellchecked_text = []\n",
        "\n",
        "  for review_text in tqdm(df_reidx['cleaned_sentence']):\n",
        "    # expand the contracted words\n",
        "    review_text = spell(review_text)\n",
        "    spellchecked_text.append(review_text)\n",
        "\n",
        "  return spellchecked_text\n",
        "\n",
        "\n",
        "df_reidx['cleaned_sentence'] = clean_text(df_reidx)\n",
        "#df_reidx['cleaned_sentence'] = spellcheck(df_reidx) \n",
        "\n",
        "\n",
        "# df_data['cleaned_review'] = df_data.apply(clean_text)\n",
        "# df_data = df_data.drop(columns=['review'])\n",
        "\n",
        "df_reidx.head()  "
      ],
      "execution_count": null,
      "outputs": [
        {
          "output_type": "stream",
          "text": [
            "100%|██████████| 17998/17998 [00:04<00:00, 3675.97it/s]\n"
          ],
          "name": "stderr"
        },
        {
          "output_type": "execute_result",
          "data": {
            "text/html": [
              "<div>\n",
              "<style scoped>\n",
              "    .dataframe tbody tr th:only-of-type {\n",
              "        vertical-align: middle;\n",
              "    }\n",
              "\n",
              "    .dataframe tbody tr th {\n",
              "        vertical-align: top;\n",
              "    }\n",
              "\n",
              "    .dataframe thead th {\n",
              "        text-align: right;\n",
              "    }\n",
              "</style>\n",
              "<table border=\"1\" class=\"dataframe\">\n",
              "  <thead>\n",
              "    <tr style=\"text-align: right;\">\n",
              "      <th></th>\n",
              "      <th>sentence</th>\n",
              "      <th>emotion</th>\n",
              "      <th>label</th>\n",
              "      <th>length</th>\n",
              "      <th>cleaned_sentence</th>\n",
              "    </tr>\n",
              "  </thead>\n",
              "  <tbody>\n",
              "    <tr>\n",
              "      <th>0</th>\n",
              "      <td>i can go from feeling so hopeless to so damned...</td>\n",
              "      <td>sadness</td>\n",
              "      <td>0</td>\n",
              "      <td>108</td>\n",
              "      <td>i can go from feeling so hopeless to so damned...</td>\n",
              "    </tr>\n",
              "    <tr>\n",
              "      <th>1</th>\n",
              "      <td>im grabbing a minute to post i feel greedy wrong</td>\n",
              "      <td>anger</td>\n",
              "      <td>0</td>\n",
              "      <td>48</td>\n",
              "      <td>i am grabbing a minute to post i feel greedy w...</td>\n",
              "    </tr>\n",
              "    <tr>\n",
              "      <th>2</th>\n",
              "      <td>i am ever feeling nostalgic about the fireplac...</td>\n",
              "      <td>love</td>\n",
              "      <td>1</td>\n",
              "      <td>92</td>\n",
              "      <td>i am ever feeling nostalgic about the fireplac...</td>\n",
              "    </tr>\n",
              "    <tr>\n",
              "      <th>3</th>\n",
              "      <td>i am feeling grouchy</td>\n",
              "      <td>anger</td>\n",
              "      <td>0</td>\n",
              "      <td>20</td>\n",
              "      <td>i am feeling grouchy</td>\n",
              "    </tr>\n",
              "    <tr>\n",
              "      <th>4</th>\n",
              "      <td>ive been feeling a little burdened lately wasn...</td>\n",
              "      <td>sadness</td>\n",
              "      <td>0</td>\n",
              "      <td>65</td>\n",
              "      <td>i have been feeling a little burdened lately w...</td>\n",
              "    </tr>\n",
              "  </tbody>\n",
              "</table>\n",
              "</div>"
            ],
            "text/plain": [
              "                                            sentence  ...                                   cleaned_sentence\n",
              "0  i can go from feeling so hopeless to so damned...  ...  i can go from feeling so hopeless to so damned...\n",
              "1   im grabbing a minute to post i feel greedy wrong  ...  i am grabbing a minute to post i feel greedy w...\n",
              "2  i am ever feeling nostalgic about the fireplac...  ...  i am ever feeling nostalgic about the fireplac...\n",
              "3                               i am feeling grouchy  ...                               i am feeling grouchy\n",
              "4  ive been feeling a little burdened lately wasn...  ...  i have been feeling a little burdened lately w...\n",
              "\n",
              "[5 rows x 5 columns]"
            ]
          },
          "metadata": {
            "tags": []
          },
          "execution_count": 144
        }
      ]
    },
    {
      "cell_type": "markdown",
      "metadata": {
        "id": "NWRKxc1vECx0"
      },
      "source": [
        "###### additional lemmatization"
      ]
    },
    {
      "cell_type": "code",
      "metadata": {
        "colab": {
          "base_uri": "https://localhost:8080/"
        },
        "id": "UdFbKacIgGU_",
        "outputId": "f782280a-d80c-4862-88b7-b340a9b4db04"
      },
      "source": [
        "def lemmatization(df_reidx):\n",
        "  lemmatizer = WordNetLemmatizer()\n",
        "  lemmatized_output=[]\n",
        "\n",
        "  for review_text in tqdm(df_reidx['cleaned_sentence']):\n",
        "\n",
        "    review_text = lemmatizer.lemmatize(review_text)\n",
        "    lemmatized_output.append(review_text)\n",
        "\n",
        "  return lemmatized_output\n",
        "df_reidx['cleaned_sentence'] = lemmatization(df_reidx) "
      ],
      "execution_count": null,
      "outputs": [
        {
          "output_type": "stream",
          "text": [
            "100%|██████████| 17998/17998 [00:00<00:00, 195546.80it/s]\n"
          ],
          "name": "stderr"
        }
      ]
    },
    {
      "cell_type": "code",
      "metadata": {
        "colab": {
          "base_uri": "https://localhost:8080/"
        },
        "id": "uSa5GnOJj9vY",
        "outputId": "d3ae6b97-a601-472e-fc98-6bb09e728aa7"
      },
      "source": [
        "# example of a sentence before and after cleaning, we can see that the punctuations and html tags are removed.\n",
        "print(df_reidx['sentence'][177],'\\n')\n",
        "\n",
        "print(df_reidx['cleaned_sentence'][177])"
      ],
      "execution_count": null,
      "outputs": [
        {
          "output_type": "stream",
          "text": [
            "ive lost some weight such that i could fit into a tiny skirt that ive been unable to wear because i didnt feel confident in it until now \n",
            "\n",
            "i have lost some weight such that i could fit into a tiny skirt that i have been unable to wear because i did not feel confident in it until now\n"
          ],
          "name": "stdout"
        }
      ]
    },
    {
      "cell_type": "markdown",
      "metadata": {
        "id": "tt6Tbl3xlBhE"
      },
      "source": [
        "# Feature Engineering"
      ]
    },
    {
      "cell_type": "markdown",
      "metadata": {
        "id": "Ln-1lwjhlfS7"
      },
      "source": [
        "### CounterVectorize: tokenization: "
      ]
    },
    {
      "cell_type": "code",
      "metadata": {
        "colab": {
          "base_uri": "https://localhost:8080/"
        },
        "id": "jT3nRcj9v-mL",
        "outputId": "278e3b54-b1c7-4b5c-8a3c-3da1f6fce5a0"
      },
      "source": [
        "# convert the cleaned sentences to vectors\n",
        "token = RegexpTokenizer(r'[a-zA-Z0-9]+')\n",
        "# a built-in stop word list for english is used\n",
        "# all values of n such than min_n<=n<= max_n will be used. (1,1): only unigrams, (1,2):uni&bigram, (2,2): only bigrams\n",
        "# max_df: when building the vocabulary, ignore terms that have a document frequency strictly higher than the given threshold.\n",
        "# min_df: ignore terms that have a document frequency strictly lower than the given threshold.\n",
        "\n",
        "vectorizer = CountVectorizer(stop_words='english', max_df=0.5, min_df=3, ngram_range=(1,1),tokenizer = token.tokenize)\n",
        "x = vectorizer.fit_transform(df_reidx.cleaned_sentence)\n",
        "y = df_reidx.label.values\n",
        "\n",
        "print(\"X.shape : \",x.shape)\n",
        "print(\"y.shape : \",y.shape)"
      ],
      "execution_count": null,
      "outputs": [
        {
          "output_type": "stream",
          "text": [
            "X.shape :  (17998, 5341)\n",
            "y.shape :  (17998,)\n"
          ],
          "name": "stdout"
        }
      ]
    },
    {
      "cell_type": "markdown",
      "metadata": {
        "id": "l1kNPsDNm_f4"
      },
      "source": [
        "# Train Test split\n",
        "\n",
        "```\n",
        "# This is formatted as code\n",
        "```\n",
        "\n"
      ]
    },
    {
      "cell_type": "code",
      "metadata": {
        "colab": {
          "base_uri": "https://localhost:8080/"
        },
        "id": "OqtP1s3WnOEj",
        "outputId": "eb5ed0cd-d174-4fdf-be65-0594b3f056d1"
      },
      "source": [
        "# do shuffle to make neg and pos data of data set split equaly in the test and training set\n",
        "# do random_sate for making it settle when we run this code repeatedly\n",
        "train_idx, test_idx = train_test_split(np.arange(df_reidx.shape[0]), test_size=0.3,shuffle=True, random_state=42)\n",
        "\n",
        "x_train = x[train_idx]\n",
        "y_train = y[train_idx]\n",
        "\n",
        "x_test = x[test_idx]\n",
        "y_test = y[test_idx]\n",
        "print(\"Number of training examples:{}\".format(len(train_idx)))\n",
        "print(\"Number of testing examples:{}\\n\".format(len(test_idx)))\n",
        "print(\"Training data: X_train : {}, y_train : {}\".format(x_train.shape, y_train.shape))\n",
        "print(\"Testing data: X_test : {}, y_test : {}\".format(x_test.shape, y_test.shape))\n"
      ],
      "execution_count": null,
      "outputs": [
        {
          "output_type": "stream",
          "text": [
            "Number of training examples:12598\n",
            "Number of testing examples:5400\n",
            "\n",
            "Training data: X_train : (12598, 5341), y_train : (12598,)\n",
            "Testing data: X_test : (5400, 5341), y_test : (5400,)\n"
          ],
          "name": "stdout"
        }
      ]
    },
    {
      "cell_type": "markdown",
      "metadata": {
        "id": "m1fK2NLdzysQ"
      },
      "source": [
        "# Model Training"
      ]
    },
    {
      "cell_type": "markdown",
      "metadata": {
        "id": "Dwtb2azVm2U8"
      },
      "source": [
        "#### Logistic Regression"
      ]
    },
    {
      "cell_type": "code",
      "metadata": {
        "colab": {
          "base_uri": "https://localhost:8080/"
        },
        "id": "2gfpybeIm7NX",
        "outputId": "7e66a289-1c74-49cc-8442-6bdf6e212877"
      },
      "source": [
        "# fit a logistic regression classifier on the training data use default settings\n",
        "lr_clf = LogisticRegression()\n",
        "lr_clf.fit(x_train, y_train)\n",
        "\n",
        "# make prediction on testing data\n",
        "y_pred_test_lr = lr_clf.predict(x_test)\n",
        "y_predprob_lr = lr_clf.predict_proba(x_test)\n",
        "matrix_lr = confusion_matrix(y_test,y_pred_test_lr)\n",
        "print(matrix_lr)"
      ],
      "execution_count": null,
      "outputs": [
        {
          "output_type": "stream",
          "text": [
            "[[3045   86]\n",
            " [ 121 2148]]\n"
          ],
          "name": "stdout"
        }
      ]
    },
    {
      "cell_type": "code",
      "metadata": {
        "colab": {
          "base_uri": "https://localhost:8080/"
        },
        "id": "HPpKaULGnAHz",
        "outputId": "d483f0be-13a0-4fca-9de2-15bc4c35d3f6"
      },
      "source": [
        "print(classification_report(y_test, y_pred_test_lr))"
      ],
      "execution_count": null,
      "outputs": [
        {
          "output_type": "stream",
          "text": [
            "              precision    recall  f1-score   support\n",
            "\n",
            "           0       0.96      0.97      0.97      3131\n",
            "           1       0.96      0.95      0.95      2269\n",
            "\n",
            "    accuracy                           0.96      5400\n",
            "   macro avg       0.96      0.96      0.96      5400\n",
            "weighted avg       0.96      0.96      0.96      5400\n",
            "\n"
          ],
          "name": "stdout"
        }
      ]
    },
    {
      "cell_type": "code",
      "metadata": {
        "colab": {
          "base_uri": "https://localhost:8080/"
        },
        "id": "u1ccmDmjRcEg",
        "outputId": "815aa552-f2e1-462e-c066-7009511231f3"
      },
      "source": [
        "print(\"Accuracy for Bernouli Naive Bayes model:\",metrics.accuracy_score(y_test, y_pred_test_lr))"
      ],
      "execution_count": null,
      "outputs": [
        {
          "output_type": "stream",
          "text": [
            "Accuracy for Bernouli Naive Bayes model: 0.9616666666666667\n"
          ],
          "name": "stdout"
        }
      ]
    },
    {
      "cell_type": "markdown",
      "metadata": {
        "id": "IdXsV5VK78nt"
      },
      "source": [
        "#### Naive Bayes classifier"
      ]
    },
    {
      "cell_type": "markdown",
      "metadata": {
        "id": "-nRFJAe3opBp"
      },
      "source": [
        "##### BernouliNB\n",
        "\n",
        "A binary algorithm used when the feature is present or not."
      ]
    },
    {
      "cell_type": "code",
      "metadata": {
        "colab": {
          "base_uri": "https://localhost:8080/"
        },
        "id": "wLfvVX1_77P7",
        "outputId": "960ed7f0-5bab-46dd-b842-872a51dc19de"
      },
      "source": [
        "from sklearn.naive_bayes import BernoulliNB\n",
        "nb_clf = BernoulliNB()\n",
        "nb_clf.fit(x_train, y_train)\n",
        "# make prediction on testing data\n",
        "y_pred_test_nb = nb_clf.predict(x_test)\n",
        "y_predprob_nb = nb_clf.predict_proba(x_test)\n",
        "matrix_nb = confusion_matrix(y_test,y_pred_test_nb)\n",
        "print(matrix_nb)"
      ],
      "execution_count": null,
      "outputs": [
        {
          "output_type": "stream",
          "text": [
            "[[2989  142]\n",
            " [ 203 2066]]\n"
          ],
          "name": "stdout"
        }
      ]
    },
    {
      "cell_type": "code",
      "metadata": {
        "colab": {
          "base_uri": "https://localhost:8080/"
        },
        "id": "ZEUUb2Af8Inx",
        "outputId": "2dc96290-8db2-45e2-cc82-831d6e8962f9"
      },
      "source": [
        "y_pred_test_nb"
      ],
      "execution_count": null,
      "outputs": [
        {
          "output_type": "execute_result",
          "data": {
            "text/plain": [
              "array([0, 0, 0, ..., 0, 1, 0])"
            ]
          },
          "metadata": {
            "tags": []
          },
          "execution_count": 153
        }
      ]
    },
    {
      "cell_type": "code",
      "metadata": {
        "colab": {
          "base_uri": "https://localhost:8080/"
        },
        "id": "IA2i42iM8JRo",
        "outputId": "8fd40cf0-ada6-4260-ae02-09137f39e553"
      },
      "source": [
        "y_predprob_test_nb = nb_clf.predict_proba(x_test)\n",
        "y_predprob_test_nb"
      ],
      "execution_count": null,
      "outputs": [
        {
          "output_type": "execute_result",
          "data": {
            "text/plain": [
              "array([[0.98454182, 0.01545818],\n",
              "       [0.98288329, 0.01711671],\n",
              "       [0.9797263 , 0.0202737 ],\n",
              "       ...,\n",
              "       [0.61684528, 0.38315472],\n",
              "       [0.34840819, 0.65159181],\n",
              "       [0.99529108, 0.00470892]])"
            ]
          },
          "metadata": {
            "tags": []
          },
          "execution_count": 141
        }
      ]
    },
    {
      "cell_type": "code",
      "metadata": {
        "colab": {
          "base_uri": "https://localhost:8080/"
        },
        "id": "BH_Fzq9iqa3C",
        "outputId": "ecabb18e-8643-44e7-834c-0a9b63d9e5bb"
      },
      "source": [
        "print(classification_report(y_test, y_pred_test_nb))\n",
        "# micro average (averaging the total true positives, false negatives and false positives globally, true pos of one class / (all true pos + all false pos))\n",
        "# macro average (averaging the unweighted mean per label)"
      ],
      "execution_count": null,
      "outputs": [
        {
          "output_type": "stream",
          "text": [
            "              precision    recall  f1-score   support\n",
            "\n",
            "           0       0.93      0.95      0.94      3131\n",
            "           1       0.92      0.90      0.91      2269\n",
            "\n",
            "    accuracy                           0.93      5400\n",
            "   macro avg       0.93      0.92      0.93      5400\n",
            "weighted avg       0.93      0.93      0.93      5400\n",
            "\n"
          ],
          "name": "stdout"
        }
      ]
    },
    {
      "cell_type": "code",
      "metadata": {
        "colab": {
          "base_uri": "https://localhost:8080/"
        },
        "id": "cNnZGzgUAmCp",
        "outputId": "9dcd39ae-4c5e-47d0-aa3e-49823c620051"
      },
      "source": [
        "from sklearn import metrics\n",
        "print(\"Accuracy for Bernouli Naive Bayes model:\",metrics.accuracy_score(y_test, y_pred_test_nb))"
      ],
      "execution_count": null,
      "outputs": [
        {
          "output_type": "stream",
          "text": [
            "Accuracy for Bernouli Naive Bayes model: 0.9361111111111111\n"
          ],
          "name": "stdout"
        }
      ]
    },
    {
      "cell_type": "markdown",
      "metadata": {
        "id": "i_3y0arSokl1"
      },
      "source": [
        "##### MultinominaliNB\n",
        "\n",
        "It consider a feature vector where a given term represents the number of times it appears or very ofen, such as frequency."
      ]
    },
    {
      "cell_type": "code",
      "metadata": {
        "colab": {
          "base_uri": "https://localhost:8080/"
        },
        "id": "0szXmLlOphy3",
        "outputId": "215ffbde-306d-484f-fcbd-2c7aee0c8059"
      },
      "source": [
        "mnb = MultinomialNB()\n",
        "mnb.fit(x_train, y_train)\n",
        "# make prediction on testing data\n",
        "y_pred_test_mnb = mnb.predict(x_test)\n",
        "y_predprob_mnb = mnb.predict_proba(x_test)\n",
        "matrix = confusion_matrix(y_test,y_pred_test_mnb)\n",
        "print(matrix)"
      ],
      "execution_count": null,
      "outputs": [
        {
          "output_type": "stream",
          "text": [
            "[[2989  142]\n",
            " [ 193 2076]]\n"
          ],
          "name": "stdout"
        }
      ]
    },
    {
      "cell_type": "code",
      "metadata": {
        "colab": {
          "base_uri": "https://localhost:8080/"
        },
        "id": "pvUSyj-EpxVp",
        "outputId": "5ef010a8-2c87-4639-c0fb-80a6db36427c"
      },
      "source": [
        "print(classification_report(y_test, y_pred_test_mnb))"
      ],
      "execution_count": null,
      "outputs": [
        {
          "output_type": "stream",
          "text": [
            "              precision    recall  f1-score   support\n",
            "\n",
            "           0       0.94      0.95      0.95      3131\n",
            "           1       0.94      0.91      0.93      2269\n",
            "\n",
            "    accuracy                           0.94      5400\n",
            "   macro avg       0.94      0.93      0.94      5400\n",
            "weighted avg       0.94      0.94      0.94      5400\n",
            "\n"
          ],
          "name": "stdout"
        }
      ]
    },
    {
      "cell_type": "code",
      "metadata": {
        "colab": {
          "base_uri": "https://localhost:8080/"
        },
        "id": "kf6X_WR1rUcq",
        "outputId": "64521289-7dcf-4c8c-f592-afd6f5091f67"
      },
      "source": [
        "print(\"Accuracy for multinominal Naive Bayes model:\",metrics.accuracy_score(y_test, y_pred_test_mnb))"
      ],
      "execution_count": null,
      "outputs": [
        {
          "output_type": "stream",
          "text": [
            "Accuracy for multinominal Naive Bayes model: 0.937962962962963\n"
          ],
          "name": "stdout"
        }
      ]
    },
    {
      "cell_type": "markdown",
      "metadata": {
        "id": "abbE2gAG0YlS"
      },
      "source": [
        "# Model Evaluation"
      ]
    },
    {
      "cell_type": "markdown",
      "metadata": {
        "id": "rivuHvYu3FM-"
      },
      "source": [
        "# Cross validataion"
      ]
    },
    {
      "cell_type": "markdown",
      "metadata": {
        "id": "drFvvZZ-phhG"
      },
      "source": [
        "##### Logistic Regression"
      ]
    },
    {
      "cell_type": "code",
      "metadata": {
        "colab": {
          "base_uri": "https://localhost:8080/"
        },
        "id": "Ns19AmQ2naXN",
        "outputId": "2d1621ee-fd11-4f00-d0de-ac4d194cc64f"
      },
      "source": [
        "# n-fold cross validation\n",
        "scores_lr = cross_val_score(lr_clf, x, y, cv=5, scoring='precision')\n",
        "print(scores_lr)"
      ],
      "execution_count": null,
      "outputs": [
        {
          "output_type": "stream",
          "text": [
            "[0.96563342 0.96551724 0.95515395 0.95681063 0.96392786]\n"
          ],
          "name": "stdout"
        }
      ]
    },
    {
      "cell_type": "markdown",
      "metadata": {
        "id": "e5nbe_IzoH1T"
      },
      "source": [
        "##### BernouliNB"
      ]
    },
    {
      "cell_type": "code",
      "metadata": {
        "colab": {
          "base_uri": "https://localhost:8080/"
        },
        "id": "cpevzJJ1-sTu",
        "outputId": "82153c78-174c-438a-8ea5-5d4ecba70276"
      },
      "source": [
        "scores_nb = cross_val_score(nb_clf, x, y, cv=5, scoring='precision')\n",
        "print(scores_nb)"
      ],
      "execution_count": null,
      "outputs": [
        {
          "output_type": "stream",
          "text": [
            "[0.94121622 0.93924915 0.93877551 0.93847194 0.93914807]\n"
          ],
          "name": "stdout"
        }
      ]
    },
    {
      "cell_type": "markdown",
      "metadata": {
        "id": "h5yFEWAeoTlt"
      },
      "source": [
        "##### MultinominaliNB"
      ]
    },
    {
      "cell_type": "code",
      "metadata": {
        "colab": {
          "base_uri": "https://localhost:8080/"
        },
        "id": "BRVfVfaRrOXE",
        "outputId": "9f7b9b65-cb74-4a23-a16d-613fae557f09"
      },
      "source": [
        "scores_mnb = cross_val_score(mnb, x, y, cv=5, scoring='precision')\n",
        "print(scores_mnb)"
      ],
      "execution_count": null,
      "outputs": [
        {
          "output_type": "stream",
          "text": [
            "[0.94395679 0.94455852 0.9375     0.94372881 0.9459094 ]\n"
          ],
          "name": "stdout"
        }
      ]
    },
    {
      "cell_type": "markdown",
      "metadata": {
        "id": "R-4-ViPgri7h"
      },
      "source": [
        "##### ROC Curve"
      ]
    },
    {
      "cell_type": "markdown",
      "metadata": {
        "id": "1drwLQ9hpmca"
      },
      "source": [
        "##### Logistic Regression"
      ]
    },
    {
      "cell_type": "code",
      "metadata": {
        "colab": {
          "base_uri": "https://localhost:8080/",
          "height": 294
        },
        "id": "QdnCc7PjnfZw",
        "outputId": "df2f3a1b-155c-40bc-e343-c37e20453b48"
      },
      "source": [
        "from sklearn.metrics import roc_curve, auc\n",
        "\n",
        "fpr, tpr, thresholds = roc_curve(y_true = y_test, y_score = y_predprob_lr[:,1], pos_label=1)\n",
        "roc_auc = auc(fpr, tpr) # area under ROC curve\n",
        "\n",
        "plt.figure()\n",
        "lw = 2\n",
        "plt.plot(fpr, tpr, color='darkorange', lw=lw, label='ROC curve (area = %0.2f)' % roc_auc)\n",
        "plt.plot([0, 1], [0, 1], color='navy', lw=lw, linestyle='--')\n",
        "plt.xlim([0.0, 1.0])\n",
        "plt.ylim([0.0, 1.05])\n",
        "plt.xlabel('False Positive Rate')\n",
        "plt.ylabel('True Positive Rate')\n",
        "plt.title('ROC (Receiver operating characteristic) curve')\n",
        "plt.legend(loc=\"lower right\")\n",
        "plt.show()"
      ],
      "execution_count": null,
      "outputs": [
        {
          "output_type": "display_data",
          "data": {
            "image/png": "[encoded data removed]",
            "text/plain": [
              "<Figure size 432x288 with 1 Axes>"
            ]
          },
          "metadata": {
            "tags": [],
            "needs_background": "light"
          }
        }
      ]
    },
    {
      "cell_type": "markdown",
      "metadata": {
        "id": "uX-VWSHMtu27"
      },
      "source": [
        "##### BernouliNB"
      ]
    },
    {
      "cell_type": "code",
      "metadata": {
        "colab": {
          "base_uri": "https://localhost:8080/",
          "height": 294
        },
        "id": "zSGj64AMt0IY",
        "outputId": "30d195ee-1e07-49db-c53b-5381c867e781"
      },
      "source": [
        "from sklearn.metrics import roc_curve, auc\n",
        "\n",
        "fpr, tpr, thresholds = roc_curve(y_true = y_test, y_score = y_predprob_nb[:,1], pos_label=1)\n",
        "roc_auc = auc(fpr, tpr) # area under ROC curve\n",
        "\n",
        "plt.figure()\n",
        "lw = 2\n",
        "plt.plot(fpr, tpr, color='darkorange', lw=lw, label='ROC curve (area = %0.2f)' % roc_auc)\n",
        "plt.plot([0, 1], [0, 1], color='navy', lw=lw, linestyle='--')\n",
        "plt.xlim([0.0, 1.0])\n",
        "plt.ylim([0.0, 1.05])\n",
        "plt.xlabel('False Positive Rate')\n",
        "plt.ylabel('True Positive Rate')\n",
        "plt.title('ROC (Receiver operating characteristic) curve')\n",
        "plt.legend(loc=\"lower right\")\n",
        "plt.show()"
      ],
      "execution_count": null,
      "outputs": [
        {
          "output_type": "display_data",
          "data": {
            "image/png": "[encoded data removed]",
            "text/plain": [
              "<Figure size 432x288 with 1 Axes>"
            ]
          },
          "metadata": {
            "tags": [],
            "needs_background": "light"
          }
        }
      ]
    },
    {
      "cell_type": "markdown",
      "metadata": {
        "id": "FiOW8B9joVXv"
      },
      "source": [
        "##### MultinominaliNB"
      ]
    },
    {
      "cell_type": "code",
      "metadata": {
        "colab": {
          "base_uri": "https://localhost:8080/",
          "height": 294
        },
        "id": "lKYhef6srlAf",
        "outputId": "18c2fbc5-e86f-4a84-ca34-28d233edc770"
      },
      "source": [
        "from sklearn.metrics import roc_curve, auc\n",
        "\n",
        "fpr, tpr, thresholds = roc_curve(y_true = y_test, y_score = y_predprob_mnb[:,1], pos_label=1)\n",
        "roc_auc = auc(fpr, tpr) # area under ROC curve\n",
        "\n",
        "plt.figure()\n",
        "lw = 2\n",
        "plt.plot(fpr, tpr, color='darkorange', lw=lw, label='ROC curve (area = %0.2f)' % roc_auc)\n",
        "plt.plot([0, 1], [0, 1], color='navy', lw=lw, linestyle='--')\n",
        "plt.xlim([0.0, 1.0])\n",
        "plt.ylim([0.0, 1.05])\n",
        "plt.xlabel('False Positive Rate')\n",
        "plt.ylabel('True Positive Rate')\n",
        "plt.title('ROC (Receiver operating characteristic) curve')\n",
        "plt.legend(loc=\"lower right\")\n",
        "plt.show()"
      ],
      "execution_count": null,
      "outputs": [
        {
          "output_type": "display_data",
          "data": {
            "image/png": "[encoded data removed]",
            "text/plain": [
              "<Figure size 432x288 with 1 Axes>"
            ]
          },
          "metadata": {
            "tags": [],
            "needs_background": "light"
          }
        }
      ]
    },
    {
      "cell_type": "markdown",
      "metadata": {
        "id": "Vmy0gGdftj4Q"
      },
      "source": [
        "### Precision Recall Curve"
      ]
    },
    {
      "cell_type": "markdown",
      "metadata": {
        "id": "YKzqXuuJtn3g"
      },
      "source": [
        "##### Logistic Regression"
      ]
    },
    {
      "cell_type": "code",
      "metadata": {
        "colab": {
          "base_uri": "https://localhost:8080/",
          "height": 294
        },
        "id": "NRRbVPDynnBt",
        "outputId": "260e1de6-e2c6-498d-a0de-84c5b1f4f6cf"
      },
      "source": [
        "from sklearn.metrics import average_precision_score\n",
        "precision, recall, thresholds = precision_recall_curve(y_true=y_test, probas_pred=y_predprob_lr[:,1], pos_label=1)\n",
        "plt.plot(recall, precision, color='darkorange', lw=lw, label='Average precision recall score: %0.2f' % average_precision_score(y_test, y_predprob_mnb[:,1]))\n",
        "\n",
        "plt.title('Precision recall curve')\n",
        "plt.xlabel('Recall')\n",
        "plt.ylabel('Precision')\n",
        "plt.legend()\n",
        "plt.show()"
      ],
      "execution_count": null,
      "outputs": [
        {
          "output_type": "display_data",
          "data": {
            "image/png": "[encoded data removed]",
            "text/plain": [
              "<Figure size 432x288 with 1 Axes>"
            ]
          },
          "metadata": {
            "tags": [],
            "needs_background": "light"
          }
        }
      ]
    },
    {
      "cell_type": "markdown",
      "metadata": {
        "id": "HLorE4Axtstz"
      },
      "source": [
        "##### BernouliNB"
      ]
    },
    {
      "cell_type": "code",
      "metadata": {
        "colab": {
          "base_uri": "https://localhost:8080/",
          "height": 294
        },
        "id": "RvmZahxRt7R4",
        "outputId": "0555682a-4df1-4c52-b36a-66a323d4283a"
      },
      "source": [
        "from sklearn.metrics import average_precision_score\n",
        "precision, recall, thresholds = precision_recall_curve(y_true=y_test, probas_pred=y_predprob_nb[:,1], pos_label=1)\n",
        "plt.plot(recall, precision, color='darkorange', lw=lw, label='Average precision recall score: %0.2f' % average_precision_score(y_test, y_predprob_mnb[:,1]))\n",
        "\n",
        "plt.title('Precision recall curve')\n",
        "plt.xlabel('Recall')\n",
        "plt.ylabel('Precision')\n",
        "plt.legend()\n",
        "plt.show()"
      ],
      "execution_count": null,
      "outputs": [
        {
          "output_type": "display_data",
          "data": {
            "image/png": "[encoded data removed]",
            "text/plain": [
              "<Figure size 432x288 with 1 Axes>"
            ]
          },
          "metadata": {
            "tags": [],
            "needs_background": "light"
          }
        }
      ]
    },
    {
      "cell_type": "markdown",
      "metadata": {
        "id": "Fvc31icpoW3l"
      },
      "source": [
        "##### MultinominaliNB"
      ]
    },
    {
      "cell_type": "code",
      "metadata": {
        "colab": {
          "base_uri": "https://localhost:8080/",
          "height": 294
        },
        "id": "N3b3ggnHshK2",
        "outputId": "1d225feb-794b-49b3-f908-5fb78d1e339e"
      },
      "source": [
        "from sklearn.metrics import average_precision_score\n",
        "precision, recall, thresholds = precision_recall_curve(y_true=y_test, probas_pred=y_predprob_mnb[:,1], pos_label=1)\n",
        "plt.plot(recall, precision, color='darkorange', lw=lw, label='Average precision recall score: %0.2f' % average_precision_score(y_test, y_predprob_mnb[:,1]))\n",
        "\n",
        "plt.title('Precision recall curve')\n",
        "plt.xlabel('Recall')\n",
        "plt.ylabel('Precision')\n",
        "plt.legend()\n",
        "plt.show()"
      ],
      "execution_count": null,
      "outputs": [
        {
          "output_type": "display_data",
          "data": {
            "image/png": "[encoded data removed]",
            "text/plain": [
              "<Figure size 432x288 with 1 Axes>"
            ]
          },
          "metadata": {
            "tags": [],
            "needs_background": "light"
          }
        }
      ]
    },
    {
      "cell_type": "markdown",
      "metadata": {
        "id": "jCdAQQk5n9Lu"
      },
      "source": [
        "###### LinearRegression"
      ]
    },
    {
      "cell_type": "code",
      "metadata": {
        "colab": {
          "base_uri": "https://localhost:8080/"
        },
        "id": "kO0UOIPNnsaZ",
        "outputId": "21994a37-3793-4c2d-c8d6-7cac3a026da4"
      },
      "source": [
        "acc_score_lr = metrics.accuracy_score(y_pred_test_lr,y_test)\n",
        "prec_score_lr = precision_score(y_test,y_pred_test_lr, average='macro')\n",
        "recall_lr = recall_score(y_test, y_pred_test_lr,average='macro')\n",
        "f1_lr = f1_score(y_test,y_pred_test_nb,average='macro')\n",
        "matrix_lr = confusion_matrix(y_test,y_pred_test_lr)\n",
        "print('Logistic Regression Model\\n')\n",
        "print(str('Accuracy: '+'{:04.2f}'.format(acc_score_lr*100))+'%')\n",
        "print(str('Precision: '+'{:04.2f}'.format(prec_score_lr*100))+'%')\n",
        "print(str('Recall: '+'{:04.2f}'.format(recall_lr*100))+'%')\n",
        "print('F1 Score: ',f1_lr)\n",
        "print(matrix_lr)"
      ],
      "execution_count": null,
      "outputs": [
        {
          "output_type": "stream",
          "text": [
            "Logistic Regression Model\n",
            "\n",
            "Accuracy: 96.17%\n",
            "Precision: 96.16%\n",
            "Recall: 95.96%\n",
            "F1 Score:  0.9341883804092479\n",
            "[[3045   86]\n",
            " [ 121 2148]]\n"
          ],
          "name": "stdout"
        }
      ]
    },
    {
      "cell_type": "markdown",
      "metadata": {
        "id": "av7z4Hnzn_aw"
      },
      "source": [
        "##### BernouliNB"
      ]
    },
    {
      "cell_type": "code",
      "metadata": {
        "colab": {
          "base_uri": "https://localhost:8080/"
        },
        "id": "BL4jUTnHwQAA",
        "outputId": "6e2d2cc2-4718-44ea-f937-4fb59c4a760d"
      },
      "source": [
        "acc_score_nb = metrics.accuracy_score(y_pred_test_nb,y_test)\n",
        "prec_score_nb = precision_score(y_test,y_pred_test_nb, average='macro')\n",
        "recall_nb = recall_score(y_test, y_pred_test_nb,average='macro')\n",
        "f1_nb = f1_score(y_test,y_pred_test_nb,average='macro')\n",
        "matrix_nb = confusion_matrix(y_test,y_pred_test_nb)\n",
        "print('Bernouli Naive Bayes Model\\n')\n",
        "print(str('Accuracy: '+'{:04.2f}'.format(acc_score_nb*100))+'%')\n",
        "print(str('Precision: '+'{:04.2f}'.format(prec_score_nb*100))+'%')\n",
        "print(str('Recall: '+'{:04.2f}'.format(recall_nb*100))+'%')\n",
        "print('F1 Score: ',f1_nb)\n",
        "print(matrix_nb)"
      ],
      "execution_count": null,
      "outputs": [
        {
          "output_type": "stream",
          "text": [
            "Bernouli Naive Bayes Model\n",
            "\n",
            "Accuracy: 93.61%\n",
            "Precision: 93.60%\n",
            "Recall: 93.26%\n",
            "F1 Score:  0.9341883804092479\n",
            "[[2989  142]\n",
            " [ 203 2066]]\n"
          ],
          "name": "stdout"
        }
      ]
    },
    {
      "cell_type": "markdown",
      "metadata": {
        "id": "0_SSgCmHoX3p"
      },
      "source": [
        "##### MultinominaliNB"
      ]
    },
    {
      "cell_type": "code",
      "metadata": {
        "colab": {
          "base_uri": "https://localhost:8080/"
        },
        "id": "nwGHeF5Xv60e",
        "outputId": "d3cc673f-8ff9-4614-e343-614e7205edc0"
      },
      "source": [
        "acc_score_mnb = metrics.accuracy_score(y_pred_test_mnb,y_test)\n",
        "prec_score_mnb = precision_score(y_test,y_pred_test_mnb, average='macro')\n",
        "recall_mnb = recall_score(y_test, y_pred_test_mnb,average='macro')\n",
        "f1_mnb = f1_score(y_test,y_pred_test_mnb,average='macro')\n",
        "matrix_mnb = confusion_matrix(y_test,y_pred_test_mnb)\n",
        "print('Multimominal Naive Bayes Model\\n')\n",
        "print(str('Accuracy: '+'{:04.2f}'.format(acc_score_mnb*100))+'%')\n",
        "print(str('Precision: '+'{:04.2f}'.format(prec_score_mnb*100))+'%')\n",
        "print(str('Recall: '+'{:04.2f}'.format(recall_mnb*100))+'%')\n",
        "print('F1 Score: ',f1_mnb)\n",
        "print(matrix_mnb)"
      ],
      "execution_count": null,
      "outputs": [
        {
          "output_type": "stream",
          "text": [
            "Multimominal Naive Bayes Model\n",
            "\n",
            "Accuracy: 93.80%\n",
            "Precision: 93.77%\n",
            "Recall: 93.48%\n",
            "F1 Score:  0.9361373834917643\n",
            "[[2989  142]\n",
            " [ 193 2076]]\n"
          ],
          "name": "stdout"
        }
      ]
    },
    {
      "cell_type": "markdown",
      "metadata": {
        "id": "Jf7nJ4yiEfh6"
      },
      "source": [
        "# Grid Search for parameter tuning"
      ]
    },
    {
      "cell_type": "markdown",
      "metadata": {
        "id": "OdzklJ8jLljW"
      },
      "source": [
        "##### Logistic Regression parameter tuning"
      ]
    },
    {
      "cell_type": "code",
      "metadata": {
        "colab": {
          "base_uri": "https://localhost:8080/"
        },
        "id": "I224l6uLEfRo",
        "outputId": "531b0d0b-afc2-4fbd-bdf3-22ed6727f506"
      },
      "source": [
        "from sklearn.model_selection import GridSearchCV\n",
        "from sklearn.pipeline import Pipeline\n",
        "\n",
        "vector = CountVectorizer(stop_words='english')\n",
        "logistic = LogisticRegression() # , tol=0.1\n",
        "\n",
        "# build a pipeline\n",
        "pipe = Pipeline(steps = [\n",
        "       ('vectorizer', vector),\n",
        "       ('classifier', logistic)])\n",
        "\n",
        "# creat a dictionary of model parameters and corresponding values\n",
        "# For example, in countvectorizer, we want to explore the suitable value for min_df, select from 1,3,5,10\n",
        "param_grid = {\n",
        "    'vectorizer__min_df': [1, 3, 5, 10],\n",
        "    'vectorizer__max_df': [0.7, 0.8, 0.9],\n",
        "    'classifier__penalty': ['l1','l2']}\n",
        "\n",
        "# run GridSearchCV, cv, f1\n",
        "search_result = GridSearchCV(pipe, param_grid, cv=5, scoring='f1').fit(df_reidx.cleaned_sentence.values, df_reidx.label.values)\n",
        "\n",
        "\n",
        "print(\"Best parameter (CV score=%0.3f):\" % search_result.best_score_) # scoring: accuracy by default\n",
        "print(search_result.best_params_)\n",
        "# with 5 fold cv, the best f1 score is 0.958, and the corresponding parameter values are as follows:"
      ],
      "execution_count": null,
      "outputs": [
        {
          "output_type": "stream",
          "text": [
            "Best parameter (CV score=0.958):\n",
            "{'classifier__penalty': 'l2', 'vectorizer__max_df': 0.7, 'vectorizer__min_df': 3}\n"
          ],
          "name": "stdout"
        }
      ]
    },
    {
      "cell_type": "markdown",
      "metadata": {
        "id": "Bl7hXH4uLpp5"
      },
      "source": [
        "##### Bernoulli Naive Bayes parameter tuning"
      ]
    },
    {
      "cell_type": "code",
      "metadata": {
        "colab": {
          "base_uri": "https://localhost:8080/"
        },
        "id": "RSCJlHXDJBvt",
        "outputId": "c0093bc8-fe3f-4862-b7c2-aef265a84917"
      },
      "source": [
        "vector = CountVectorizer(stop_words='english')\n",
        "logistic = BernoulliNB() # , tol=0.1\n",
        "\n",
        "# build a pipeline\n",
        "pipe = Pipeline(steps = [\n",
        "       ('vectorizer', vector),\n",
        "       ('classifier', logistic)])\n",
        "parameters = {'vectorizer__min_df': [1, 3, 5, 10],\n",
        "    'vectorizer__max_df': [0.7, 0.8, 0.9],\n",
        "    'classifier__alpha':[0.0, 0.1, 1.0, 2.0, 10.0]}\n",
        "\n",
        "# run GridSearchCV, cv, f1    \n",
        "search_result = GridSearchCV(pipe, parameters, cv=5, scoring='f1').fit(df_reidx.cleaned_sentence.values, df_reidx.label.values)\n",
        "\n",
        "print(\"Best parameter (CV score=%0.3f):\" % search_result.best_score_) \n",
        "print(search_result.best_params_)\n",
        "# with 5 fold cv, the best f1 score is 0.943, and the corresponding parameter values are as follows:"
      ],
      "execution_count": null,
      "outputs": [
        {
          "output_type": "stream",
          "text": [
            "Best parameter (CV score=0.943):\n",
            "{'classifier__alpha': 0.0, 'vectorizer__max_df': 0.7, 'vectorizer__min_df': 10}\n"
          ],
          "name": "stdout"
        }
      ]
    },
    {
      "cell_type": "markdown",
      "metadata": {
        "id": "Z8VtJskkLuQQ"
      },
      "source": [
        "##### Multinomial Naive Bayes parameter tuning"
      ]
    },
    {
      "cell_type": "code",
      "metadata": {
        "colab": {
          "base_uri": "https://localhost:8080/"
        },
        "id": "T0rLawW9Fn2S",
        "outputId": "0689a830-25cf-44cb-9388-cddedc765255"
      },
      "source": [
        "vector = CountVectorizer(stop_words='english')\n",
        "logistic = MultinomialNB() # , tol=0.1\n",
        "\n",
        "# build a pipeline\n",
        "pipe = Pipeline(steps = [\n",
        "       ('vectorizer', vector),\n",
        "       ('classifier', logistic)])\n",
        "parameters = {'vectorizer__min_df': [1, 3, 5, 10],\n",
        "    'vectorizer__max_df': [0.7, 0.8, 0.9],\n",
        "    'classifier__alpha':[0.0, 0.1, 1.0, 2.0, 10.0]}\n",
        "\n",
        "# run GridSearchCV, cv, f1    \n",
        "search_result = GridSearchCV(pipe, parameters, cv=5, scoring='f1').fit(df_reidx.cleaned_sentence.values, df_reidx.label.values)\n",
        "\n",
        "print(\"Best parameter (CV score=%0.3f):\" % search_result.best_score_) \n",
        "print(search_result.best_params_)\n",
        "# with 5 fold cv, the best f1 score is 0.942, and the corresponding parameter values are as follows:"
      ],
      "execution_count": null,
      "outputs": [
        {
          "output_type": "stream",
          "text": [
            "Best parameter (CV score=0.942):\n",
            "{'classifier__alpha': 1.0, 'vectorizer__max_df': 0.7, 'vectorizer__min_df': 5}\n"
          ],
          "name": "stdout"
        }
      ]
    },
    {
      "cell_type": "markdown",
      "metadata": {
        "id": "SYMdylft3xEx"
      },
      "source": [
        "# Explain the model prediction"
      ]
    },
    {
      "cell_type": "markdown",
      "metadata": {
        "id": "35GU2wpCwukP"
      },
      "source": [
        "Multimominal Naive Bayes Model has higher accuracy than Bernouli Naive Bayes Model. And Logistic Regression model has the highest accuracy than others, so I chose Logistic Regression model to test the model."
      ]
    },
    {
      "cell_type": "code",
      "metadata": {
        "colab": {
          "base_uri": "https://localhost:8080/",
          "height": 110
        },
        "id": "Y-Td0j-j3zyl",
        "outputId": "68a8f57e-7364-479f-a9e7-191cad88c951"
      },
      "source": [
        "test_data = df_reidx.iloc[test_idx]\n",
        "test_data['pred_label'] = y_pred_test_lr\n",
        "test_data.head(2)[['sentence','label','pred_label']]\n",
        "# shows what the prediction label fit to the real label"
      ],
      "execution_count": null,
      "outputs": [
        {
          "output_type": "execute_result",
          "data": {
            "text/html": [
              "<div>\n",
              "<style scoped>\n",
              "    .dataframe tbody tr th:only-of-type {\n",
              "        vertical-align: middle;\n",
              "    }\n",
              "\n",
              "    .dataframe tbody tr th {\n",
              "        vertical-align: top;\n",
              "    }\n",
              "\n",
              "    .dataframe thead th {\n",
              "        text-align: right;\n",
              "    }\n",
              "</style>\n",
              "<table border=\"1\" class=\"dataframe\">\n",
              "  <thead>\n",
              "    <tr style=\"text-align: right;\">\n",
              "      <th></th>\n",
              "      <th>sentence</th>\n",
              "      <th>label</th>\n",
              "      <th>pred_label</th>\n",
              "    </tr>\n",
              "  </thead>\n",
              "  <tbody>\n",
              "    <tr>\n",
              "      <th>11364</th>\n",
              "      <td>i feel i was wronged</td>\n",
              "      <td>0</td>\n",
              "      <td>0</td>\n",
              "    </tr>\n",
              "    <tr>\n",
              "      <th>4119</th>\n",
              "      <td>i feel tortured when i hear them talk or sing ...</td>\n",
              "      <td>0</td>\n",
              "      <td>0</td>\n",
              "    </tr>\n",
              "  </tbody>\n",
              "</table>\n",
              "</div>"
            ],
            "text/plain": [
              "                                                sentence  label  pred_label\n",
              "11364                               i feel i was wronged      0           0\n",
              "4119   i feel tortured when i hear them talk or sing ...      0           0"
            ]
          },
          "metadata": {
            "tags": []
          },
          "execution_count": 178
        }
      ]
    },
    {
      "cell_type": "code",
      "metadata": {
        "colab": {
          "base_uri": "https://localhost:8080/",
          "height": 110
        },
        "id": "G08njojA4JMi",
        "outputId": "26c450af-2f6a-4519-8659-e88811ef81d0"
      },
      "source": [
        "# shows what the prediction label does not fit to the real label\n",
        "test_data[test_data['label'] != test_data['pred_label']].head()[['sentence','label','pred_label']].head(2)"
      ],
      "execution_count": null,
      "outputs": [
        {
          "output_type": "execute_result",
          "data": {
            "text/html": [
              "<div>\n",
              "<style scoped>\n",
              "    .dataframe tbody tr th:only-of-type {\n",
              "        vertical-align: middle;\n",
              "    }\n",
              "\n",
              "    .dataframe tbody tr th {\n",
              "        vertical-align: top;\n",
              "    }\n",
              "\n",
              "    .dataframe thead th {\n",
              "        text-align: right;\n",
              "    }\n",
              "</style>\n",
              "<table border=\"1\" class=\"dataframe\">\n",
              "  <thead>\n",
              "    <tr style=\"text-align: right;\">\n",
              "      <th></th>\n",
              "      <th>sentence</th>\n",
              "      <th>label</th>\n",
              "      <th>pred_label</th>\n",
              "    </tr>\n",
              "  </thead>\n",
              "  <tbody>\n",
              "    <tr>\n",
              "      <th>290</th>\n",
              "      <td>i feel excelent but sometimes theres just noth...</td>\n",
              "      <td>1</td>\n",
              "      <td>0</td>\n",
              "    </tr>\n",
              "    <tr>\n",
              "      <th>5725</th>\n",
              "      <td>i think he was feeling fond of and possessive ...</td>\n",
              "      <td>1</td>\n",
              "      <td>0</td>\n",
              "    </tr>\n",
              "  </tbody>\n",
              "</table>\n",
              "</div>"
            ],
            "text/plain": [
              "                                               sentence  label  pred_label\n",
              "290   i feel excelent but sometimes theres just noth...      1           0\n",
              "5725  i think he was feeling fond of and possessive ...      1           0"
            ]
          },
          "metadata": {
            "tags": []
          },
          "execution_count": 179
        }
      ]
    },
    {
      "cell_type": "markdown",
      "metadata": {
        "id": "YQiIzf5nVKpy"
      },
      "source": [
        "##### Predicted features of logistic regression model"
      ]
    },
    {
      "cell_type": "code",
      "metadata": {
        "colab": {
          "base_uri": "https://localhost:8080/"
        },
        "id": "MxlhT5tE4VZC",
        "outputId": "65905a02-3fc0-4c21-ff93-40d7d723a5af"
      },
      "source": [
        "feature_to_coef = {word: float(\"%.3f\" % coef) for word, coef in zip(vectorizer.get_feature_names(), lr_clf.coef_[0])}\n",
        "\n",
        "print(\"Top positive features:\")\n",
        "sorted(feature_to_coef.items(), key=lambda x: x[1], reverse=True)[:10]"
      ],
      "execution_count": null,
      "outputs": [
        {
          "output_type": "stream",
          "text": [
            "Top positive features:\n"
          ],
          "name": "stdout"
        },
        {
          "output_type": "execute_result",
          "data": {
            "text/plain": [
              "[('supporting', 3.384),\n",
              " ('accepted', 3.378),\n",
              " ('generous', 3.325),\n",
              " ('sympathetic', 3.282),\n",
              " ('satisfied', 3.261),\n",
              " ('faithful', 3.216),\n",
              " ('passionate', 3.212),\n",
              " ('pleasant', 3.17),\n",
              " ('respected', 3.118),\n",
              " ('superior', 3.111)]"
            ]
          },
          "metadata": {
            "tags": []
          },
          "execution_count": 182
        }
      ]
    },
    {
      "cell_type": "code",
      "metadata": {
        "colab": {
          "base_uri": "https://localhost:8080/"
        },
        "id": "L-Zu8m4TQ_tl",
        "outputId": "cf90936f-f1c4-4400-e522-6bb320e19291"
      },
      "source": [
        "# most of the words are reliable evidence of indicating negative sentiments\n",
        "print(\"Top negative features:\")\n",
        "sorted(feature_to_coef.items(), key=lambda x: x[1], reverse=False)[:10]"
      ],
      "execution_count": null,
      "outputs": [
        {
          "output_type": "stream",
          "text": [
            "Top negative features:\n"
          ],
          "name": "stdout"
        },
        {
          "output_type": "execute_result",
          "data": {
            "text/plain": [
              "[('pressured', -3.142),\n",
              " ('hated', -3.008),\n",
              " ('agitated', -2.831),\n",
              " ('punished', -2.825),\n",
              " ('groggy', -2.813),\n",
              " ('reluctant', -2.769),\n",
              " ('tortured', -2.763),\n",
              " ('intimidated', -2.748),\n",
              " ('amazed', -2.727),\n",
              " ('dangerous', -2.682)]"
            ]
          },
          "metadata": {
            "tags": []
          },
          "execution_count": 181
        }
      ]
    },
    {
      "cell_type": "markdown",
      "metadata": {
        "id": "__g2W9hzVSvI"
      },
      "source": [
        "##### Predicted features of BernouliNB"
      ]
    },
    {
      "cell_type": "code",
      "metadata": {
        "colab": {
          "base_uri": "https://localhost:8080/"
        },
        "id": "OZj7AYpyQPJP",
        "outputId": "5cbfe450-d136-4aa8-dbf1-17f83c592a5e"
      },
      "source": [
        "feature_to_coef = {word: float(\"%.3f\" % coef) for word, coef in zip(vectorizer.get_feature_names(), nb_clf.coef_[0])}\n",
        "\n",
        "print(\"Top positive features:\")\n",
        "sorted(feature_to_coef.items(), key=lambda x: x[1], reverse=True)[:10]"
      ],
      "execution_count": null,
      "outputs": [
        {
          "output_type": "stream",
          "text": [
            "Top positive features:\n"
          ],
          "name": "stdout"
        },
        {
          "output_type": "execute_result",
          "data": {
            "text/plain": [
              "[('feeling', -1.261),\n",
              " ('like', -1.708),\n",
              " ('nothe', -2.519),\n",
              " ('just', -2.577),\n",
              " ('really', -2.89),\n",
              " ('time', -3.037),\n",
              " ('know', -3.09),\n",
              " ('did', -3.219),\n",
              " ('make', -3.248),\n",
              " ('love', -3.273)]"
            ]
          },
          "metadata": {
            "tags": []
          },
          "execution_count": 161
        }
      ]
    },
    {
      "cell_type": "code",
      "metadata": {
        "colab": {
          "base_uri": "https://localhost:8080/"
        },
        "id": "wCqxxw3RRBaw",
        "outputId": "49a6ebbd-0858-4c99-bf6f-d13a6e87dc80"
      },
      "source": [
        "# most of the words are reliable evidence of indicating negative sentiments\n",
        "print(\"Top negative features:\")\n",
        "sorted(feature_to_coef.items(), key=lambda x: x[1], reverse=False)[:10]"
      ],
      "execution_count": null,
      "outputs": [
        {
          "output_type": "stream",
          "text": [
            "Top negative features:\n"
          ],
          "name": "stdout"
        },
        {
          "output_type": "execute_result",
          "data": {
            "text/plain": [
              "[('aa', -8.566),\n",
              " ('abide', -8.566),\n",
              " ('abit', -8.566),\n",
              " ('abuse', -8.566),\n",
              " ('academic', -8.566),\n",
              " ('accident', -8.566),\n",
              " ('accomplishments', -8.566),\n",
              " ('according', -8.566),\n",
              " ('account', -8.566),\n",
              " ('accustomed', -8.566)]"
            ]
          },
          "metadata": {
            "tags": []
          },
          "execution_count": 127
        }
      ]
    },
    {
      "cell_type": "markdown",
      "metadata": {
        "id": "_dd9PlAKVASq"
      },
      "source": [
        "##### Predicted features of multinomial NB"
      ]
    },
    {
      "cell_type": "code",
      "metadata": {
        "colab": {
          "base_uri": "https://localhost:8080/"
        },
        "id": "sdxER_gxQPpp",
        "outputId": "f201e97d-73e4-453e-aa02-93e7e4165a68"
      },
      "source": [
        "feature_to_coef = {word: float(\"%.3f\" % coef) for word, coef in zip(vectorizer.get_feature_names(), mnb.coef_[0])}\n",
        "\n",
        "print(\"Top positive features:\")\n",
        "sorted(feature_to_coef.items(), key=lambda x: x[1], reverse=True)[:10]"
      ],
      "execution_count": null,
      "outputs": [
        {
          "output_type": "stream",
          "text": [
            "Top positive features:\n"
          ],
          "name": "stdout"
        },
        {
          "output_type": "execute_result",
          "data": {
            "text/plain": [
              "[('feeling', -3.33),\n",
              " ('like', -3.724),\n",
              " ('nothe', -4.563),\n",
              " ('just', -4.625),\n",
              " ('really', -4.917),\n",
              " ('time', -5.058),\n",
              " ('know', -5.118),\n",
              " ('love', -5.234),\n",
              " ('did', -5.256),\n",
              " ('make', -5.293)]"
            ]
          },
          "metadata": {
            "tags": []
          },
          "execution_count": 128
        }
      ]
    },
    {
      "cell_type": "code",
      "metadata": {
        "colab": {
          "base_uri": "https://localhost:8080/"
        },
        "id": "kPa6sLvLvjbT",
        "outputId": "f2704162-fa31-4d72-c5dc-099806de1666"
      },
      "source": [
        "# most of the words are reliable evidence of indicating negative sentiments\n",
        "print(\"Top negative features:\")\n",
        "sorted(feature_to_coef.items(), key=lambda x: x[1], reverse=False)[:10]"
      ],
      "execution_count": null,
      "outputs": [
        {
          "output_type": "stream",
          "text": [
            "Top negative features:\n"
          ],
          "name": "stdout"
        },
        {
          "output_type": "execute_result",
          "data": {
            "text/plain": [
              "[('aa', -10.663),\n",
              " ('abide', -10.663),\n",
              " ('abit', -10.663),\n",
              " ('abuse', -10.663),\n",
              " ('academic', -10.663),\n",
              " ('accident', -10.663),\n",
              " ('accomplishments', -10.663),\n",
              " ('according', -10.663),\n",
              " ('account', -10.663),\n",
              " ('accustomed', -10.663)]"
            ]
          },
          "metadata": {
            "tags": []
          },
          "execution_count": 129
        }
      ]
    },
    {
      "cell_type": "markdown",
      "metadata": {
        "id": "4enhxresvsZo"
      },
      "source": [
        "# Conclusion"
      ]
    },
    {
      "cell_type": "code",
      "metadata": {
        "colab": {
          "base_uri": "https://localhost:8080/"
        },
        "id": "sy7jHH-Fv18V",
        "outputId": "afe23fff-68ed-42df-a1b4-0e0ba08093f5"
      },
      "source": [
        "text=['i want to make this positive', 'i want to make this project better', 'i feel aaaaaaah']\n",
        "test_result = lr_clf.predict(vectorizer.transform(text))\n",
        "print(test_result)"
      ],
      "execution_count": null,
      "outputs": [
        {
          "output_type": "stream",
          "text": [
            "[1 1 0]\n"
          ],
          "name": "stdout"
        }
      ]
    },
    {
      "cell_type": "markdown",
      "metadata": {
        "id": "iWzUgOkAvw5I"
      },
      "source": [
        "The multinominal Naive Bayes model is slightly higher than Bernoulli Naive Bayes model.\n",
        "Using the Logistic Regression model is the best model along with the three classifiers because it has the highest accuracy through this project. Also, the predicted features of the logistic regression model are most accurate and reasonable compare to other classifiers. By comparing the three classifiers, the logistic regression model has three to four higher accuracy than others.\n",
        "\n",
        "According to the Logistic Regression Model prediction, when people talk about their feeling that they are accepted, supported, and beloved, they use positive emojis when they are texting. On the other hand, when people feel pressured, hated, or punished, they use negative emojis when texting. \n"
      ]
    }
  ]
}